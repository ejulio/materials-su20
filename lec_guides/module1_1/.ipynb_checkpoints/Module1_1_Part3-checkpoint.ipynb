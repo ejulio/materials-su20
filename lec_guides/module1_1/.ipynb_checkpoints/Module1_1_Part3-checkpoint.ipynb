{
 "cells": [
  {
   "cell_type": "code",
   "execution_count": 1,
   "metadata": {},
   "outputs": [],
   "source": [
    "# Run this cell by hitting CTRL + ENTER\n",
    "# Support embedding YouTube Videos in Notebooks\n",
    "from IPython.display import YouTubeVideo"
   ]
  },
  {
   "cell_type": "markdown",
   "metadata": {},
   "source": [
    "# Module 1.1 Part 3: Data Types\n",
    "\n",
    "In this notebook, you'll learn how to write Python code in a Jupyter notebook. You'll go over the basics of the programming language and how we can take advantage of its features to conduct efficient data analysis.\n",
    "\n",
    "This notebook includes 6 videos with a total runtime of 54:53.\n",
    "\n",
    "- [Introduction to Python](#section1) *3 videos, total runtime 22:35*\n",
    "- [Arithmetic in Python](#section2) *2 videos, total runtime 12:55*\n",
    "- [Exponential Growth](#section3) *1 video, total runtime 8:56*\n",
    "- [Strings](#section4) *1 video, total runtime 9:27*\n",
    "- [Check for Understanding](#section5)\n",
    "\n",
    "\n",
    "Textbook Readings:\n",
    "- [Chapter 3.1 - 3.3: Programming in Python](https://www.inferentialthinking.com/chapters/03/programming-in-python.html)\n",
    "- [Chapter 4.1: Numbers](https://www.inferentialthinking.com/chapters/04/1/Numbers.html)"
   ]
  },
  {
   "cell_type": "markdown",
   "metadata": {},
   "source": [
    "<a id='section1'></a>\n",
    "## 1. Introduction to Python"
   ]
  },
  {
   "cell_type": "markdown",
   "metadata": {},
   "source": [
    "### Python\n",
    "This video will introduce you to Python, a powerful programming language that you'll use to work with data throughout this course"
   ]
  },
  {
   "cell_type": "code",
   "execution_count": 2,
   "metadata": {
    "scrolled": true
   },
   "outputs": [
    {
     "data": {
      "image/jpeg": "[encoded data removed]",
      "text/html": [
       "\n",
       "        <iframe\n",
       "            width=\"400\"\n",
       "            height=\"300\"\n",
       "            src=\"https://www.youtube.com/embed/zEN_zpTGjsY\"\n",
       "            frameborder=\"0\"\n",
       "            allowfullscreen\n",
       "        ></iframe>\n",
       "        "
      ],
      "text/plain": [
       "<IPython.lib.display.YouTubeVideo at 0x7f664c6b6898>"
      ]
     },
     "execution_count": 2,
     "metadata": {},
     "output_type": "execute_result"
    }
   ],
   "source": [
    "YouTubeVideo(\"zEN_zpTGjsY\")"
   ]
  },
  {
   "cell_type": "markdown",
   "metadata": {},
   "source": [
    "Using the cell below, write an simple mathematical expression that is equal to 42. Lines of code starting with a `#` are called *comments*, and are not evaluated when running the code chunk. Replace the ellipsis (`...`) by the desired expression, and then run the cell to see what the code evalutes to."
   ]
  },
  {
   "cell_type": "code",
   "execution_count": null,
   "metadata": {},
   "outputs": [],
   "source": [
    "# Example: 40 + 2\n",
    "..."
   ]
  },
  {
   "cell_type": "markdown",
   "metadata": {},
   "source": [
    "### Names \n",
    "\n",
    "This video will show you how to store values as variables with Python. These variables are useful if there are values that you need to continuously use throughout your analysis."
   ]
  },
  {
   "cell_type": "code",
   "execution_count": null,
   "metadata": {},
   "outputs": [],
   "source": [
    "YouTubeVideo(\"-b1peYEib_A\")"
   ]
  },
  {
   "cell_type": "markdown",
   "metadata": {},
   "source": [
    "In the cell below, assign a number to the variable `my_favorite_number`. "
   ]
  },
  {
   "cell_type": "code",
   "execution_count": null,
   "metadata": {},
   "outputs": [],
   "source": [
    "# Example: my_favorite_number = 5.162\n",
    "my_favorite_number = ..."
   ]
  },
  {
   "cell_type": "markdown",
   "metadata": {},
   "source": [
    "Now run the cells below to see how Python evaluates expressions using your new variable."
   ]
  },
  {
   "cell_type": "code",
   "execution_count": null,
   "metadata": {},
   "outputs": [],
   "source": [
    "my_favorite_number + 210"
   ]
  },
  {
   "cell_type": "code",
   "execution_count": null,
   "metadata": {},
   "outputs": [],
   "source": [
    "my_favorite_number / 4 + 2"
   ]
  },
  {
   "cell_type": "code",
   "execution_count": null,
   "metadata": {},
   "outputs": [],
   "source": [
    "my_favorite_number * 2 - 224"
   ]
  },
  {
   "cell_type": "markdown",
   "metadata": {},
   "source": [
    "### Call Expressions\n",
    "\n",
    "This video will show you how to use built-in functions to assist your calculations. "
   ]
  },
  {
   "cell_type": "code",
   "execution_count": null,
   "metadata": {},
   "outputs": [],
   "source": [
    "YouTubeVideo(\"fLNavUrZXSc\")"
   ]
  },
  {
   "cell_type": "markdown",
   "metadata": {},
   "source": [
    "In the cell below, write an expression that uses the `abs` function to find the absolute value of -15."
   ]
  },
  {
   "cell_type": "code",
   "execution_count": null,
   "metadata": {},
   "outputs": [],
   "source": [
    "..."
   ]
  },
  {
   "cell_type": "markdown",
   "metadata": {},
   "source": [
    "<details>\n",
    "    <summary>Solution</summary>\n",
    "    abs(-15)\n",
    "</details>"
   ]
  },
  {
   "cell_type": "markdown",
   "metadata": {},
   "source": [
    "Now, write an expression using the `min` function to find the smallest value among the numbers -10, 4, 12, and 42."
   ]
  },
  {
   "cell_type": "code",
   "execution_count": null,
   "metadata": {},
   "outputs": [],
   "source": [
    "..."
   ]
  },
  {
   "cell_type": "markdown",
   "metadata": {},
   "source": [
    "<details>\n",
    "    <summary>Solution</summary>\n",
    "    min(-10, 4, 12, 42)\n",
    "</details>"
   ]
  },
  {
   "cell_type": "markdown",
   "metadata": {},
   "source": [
    "Write an expression that finds the smallest value among the absolute value of -24, the absolute value of 90, and 35."
   ]
  },
  {
   "cell_type": "code",
   "execution_count": null,
   "metadata": {},
   "outputs": [],
   "source": [
    "..."
   ]
  },
  {
   "cell_type": "markdown",
   "metadata": {},
   "source": [
    "<details>\n",
    "    <summary>Solution</summary>\n",
    "    min(abs(-24), abs(90), 35)\n",
    "</details>"
   ]
  },
  {
   "cell_type": "markdown",
   "metadata": {},
   "source": [
    "<a id='section2'></a>\n",
    "## 2. Arithmetic\n",
    "\n",
    "Now that you've seen the basics, let's review the details of arithmetic operations in Python."
   ]
  },
  {
   "cell_type": "code",
   "execution_count": null,
   "metadata": {},
   "outputs": [],
   "source": [
    "YouTubeVideo(\"hWY_LGmzwkU\")"
   ]
  },
  {
   "cell_type": "markdown",
   "metadata": {},
   "source": [
    "In the cell below, write an expression to solve for $4^8$."
   ]
  },
  {
   "cell_type": "code",
   "execution_count": null,
   "metadata": {},
   "outputs": [],
   "source": [
    "..."
   ]
  },
  {
   "cell_type": "markdown",
   "metadata": {},
   "source": [
    "<details>\n",
    "    <summary>Solution</summary>\n",
    "    4 ** 8\n",
    "</details>"
   ]
  },
  {
   "cell_type": "markdown",
   "metadata": {},
   "source": [
    "Now, write an expression to solve for $(2^3 - \\frac{4}{29}) * 0.003$."
   ]
  },
  {
   "cell_type": "code",
   "execution_count": null,
   "metadata": {},
   "outputs": [],
   "source": [
    "..."
   ]
  },
  {
   "cell_type": "markdown",
   "metadata": {},
   "source": [
    "<details>\n",
    "    <summary>Solution</summary>\n",
    "    (2 ** 3 - (4/29)) * 0.003\n",
    "</details>"
   ]
  },
  {
   "cell_type": "markdown",
   "metadata": {},
   "source": [
    "### Arithmetic Question"
   ]
  },
  {
   "cell_type": "code",
   "execution_count": null,
   "metadata": {},
   "outputs": [],
   "source": [
    "YouTubeVideo(\"F3KVaWfrwn0\")"
   ]
  },
  {
   "cell_type": "markdown",
   "metadata": {},
   "source": [
    "Python evaluates expressions based on the standard order of operations (PEMDAS). \n",
    "\n",
    "Fix the code in the cell below so that it is equivalent to $2^{\\frac{(4-3)}{5}}$. The correct code should evaluate to approximately 1.1487."
   ]
  },
  {
   "cell_type": "code",
   "execution_count": null,
   "metadata": {},
   "outputs": [],
   "source": [
    "2 ** 4 - 3 / 5"
   ]
  },
  {
   "cell_type": "markdown",
   "metadata": {},
   "source": [
    "<details>\n",
    "    <summary>Solution</summary>\n",
    "    2 ** ((4 - 3) / 5)\n",
    "</details>"
   ]
  },
  {
   "cell_type": "markdown",
   "metadata": {},
   "source": [
    "<a id='section3'></a>\n",
    "## 3. Exponential Growth\n",
    "\n",
    "Now that you've learned how to do arithmetic with Python, we can explore exponential growth equations using code. In this video, you'll see how exponential growth can be used to quantify the disease transmission in the Ebola epidemic of 2014."
   ]
  },
  {
   "cell_type": "code",
   "execution_count": 3,
   "metadata": {},
   "outputs": [
    {
     "data": {
      "image/jpeg": "[encoded data removed]",
      "text/html": [
       "\n",
       "        <iframe\n",
       "            width=\"400\"\n",
       "            height=\"300\"\n",
       "            src=\"https://www.youtube.com/embed/MHRQ1UGKRyI\"\n",
       "            frameborder=\"0\"\n",
       "            allowfullscreen\n",
       "        ></iframe>\n",
       "        "
      ],
      "text/plain": [
       "<IPython.lib.display.YouTubeVideo at 0x7f664c6b6400>"
      ]
     },
     "execution_count": 3,
     "metadata": {},
     "output_type": "execute_result"
    }
   ],
   "source": [
    "YouTubeVideo(\"MHRQ1UGKRyI\")"
   ]
  },
  {
   "cell_type": "markdown",
   "metadata": {},
   "source": [
    "Bacteria reproduces at an exponential rate. Consider a population of bacteria that grows by 50% each hour, that has 50 bacteria at the start of our observation period. \n",
    "\n",
    "First, set `x` to be the original population size of the bacteria and `g` to be the population growth rate as a decimal value."
   ]
  },
  {
   "cell_type": "code",
   "execution_count": 8,
   "metadata": {},
   "outputs": [],
   "source": [
    "x = 5\n",
    "g = 0.5"
   ]
  },
  {
   "cell_type": "markdown",
   "metadata": {},
   "source": [
    "<details>\n",
    "    <summary>Solution</summary>\n",
    "    x = 50\n",
    "    <br>\n",
    "    g = 0.5\n",
    "</details>"
   ]
  },
  {
   "cell_type": "markdown",
   "metadata": {},
   "source": [
    "Using your newly defined variables `x` and `g`, set `pop_two_hours` to be the population size after two hours."
   ]
  },
  {
   "cell_type": "code",
   "execution_count": 10,
   "metadata": {},
   "outputs": [
    {
     "data": {
      "text/plain": [
       "11.25"
      ]
     },
     "execution_count": 10,
     "metadata": {},
     "output_type": "execute_result"
    }
   ],
   "source": [
    "pop_two_hours = x * (1 + g) ** 2\n",
    "pop_two_hours"
   ]
  },
  {
   "cell_type": "markdown",
   "metadata": {},
   "source": [
    "<details>\n",
    "    <summary>Solution</summary>\n",
    "    pop_two_hours = x * (1 + g) ** 2\n",
    "</details>"
   ]
  },
  {
   "cell_type": "markdown",
   "metadata": {},
   "source": [
    "Again using `x` and `g`, set `pop_175_minutes` to be the population size after 175 minutes (pay attention to the units here!)."
   ]
  },
  {
   "cell_type": "code",
   "execution_count": 11,
   "metadata": {},
   "outputs": [
    {
     "data": {
      "text/plain": [
       "16.314340034144244"
      ]
     },
     "execution_count": 11,
     "metadata": {},
     "output_type": "execute_result"
    }
   ],
   "source": [
    "pop_175_minutes = x * (1 + g) ** (175 / 60)\n",
    "pop_175_minutes"
   ]
  },
  {
   "cell_type": "markdown",
   "metadata": {},
   "source": [
    "<details>\n",
    "    <summary>Solution</summary>\n",
    "    pop_two_hours = x * (1 + g) ** (175/60)\n",
    "</details>"
   ]
  },
  {
   "cell_type": "markdown",
   "metadata": {},
   "source": [
    "<a id='section2'></a>\n",
    "## 4. Strings\n",
    "\n",
    "In the following videos, you'll learn about how to use strings to store text. You'll also go over the different operations that can be applied to textual data."
   ]
  },
  {
   "cell_type": "code",
   "execution_count": null,
   "metadata": {},
   "outputs": [],
   "source": [
    "YouTubeVideo(\"NJQr6a-j8b0\")"
   ]
  },
  {
   "cell_type": "markdown",
   "metadata": {},
   "source": [
    "In the cell below, use `word1` and `word2` to form the string \"Data 8\"."
   ]
  },
  {
   "cell_type": "code",
   "execution_count": null,
   "metadata": {},
   "outputs": [],
   "source": [
    "word1 = \"Data\"\n",
    "word2 = 8\n",
    "..."
   ]
  },
  {
   "cell_type": "markdown",
   "metadata": {},
   "source": [
    "<details>\n",
    "    <summary>Solution</summary>\n",
    "    word1 + \" \" + str(word2)\n",
    "</details>"
   ]
  },
  {
   "cell_type": "markdown",
   "metadata": {},
   "source": [
    "<a id='section5'></a>\n",
    "## 5. Check for Understanding\n",
    "\n",
    "**A. Consider the following code:**\n",
    "\n",
    "```\n",
    "x = 2\n",
    "x = 3\n",
    "x = x + x\n",
    "```\n",
    "\n",
    "**What is the final value of x?**\n",
    "\n",
    "<details>\n",
    "    <summary>Solution</summary>\n",
    "    <b>6</b> <br>\n",
    "    In the second line, x is set to be equal to 3. The third line is then equivalent to x = 3 + 3, such that the final value of x is 6\n",
    "</details>\n",
    "<br>\n",
    "\n",
    "**B. What does the following line of code evaluate to?**\n",
    "\n",
    "```\n",
    "2 + 8 / 4 ** 2\n",
    "```\n",
    "\n",
    "1. `2.5`\n",
    "2. `6`\n",
    "3. `6.25` \n",
    "\n",
    "<details>\n",
    "    <summary>Solution</summary>\n",
    "    <b>1. 2.5</b> <br>\n",
    "    The expression is evaluated in the following order: <br>\n",
    "    4**2 = 16 <br>\n",
    "    8/16 = 0.5 <br>\n",
    "    2 + 0.5 = 2.5 <br>\n",
    "</details>\n",
    "<br>\n",
    "\n",
    "**C. Consider a population of size 1000 and growth rate of 0.1 per minute. Which of the following expressions is *not* equal to the population size after 1 hour?**\n",
    "\n",
    "1. `1000 * (1 + 0.1) ** 60`\n",
    "2. `(1000 * (1 + 0.1)) * (1 + 0.1)  ** 59`\n",
    "3.  `1000 * (1 + 6) ** 1`\n",
    "4.  `(1000 * (1 + 0.1)**25) * (1 + 0.1)  ** 35`\n",
    "\n",
    "<details>\n",
    "    <summary>Solution</summary>\n",
    "    <b>3</b> <br>\n",
    "    1. is correct; this is a direct application of the exponential growth equation <br>\n",
    "    2. is correct; this expression finds the population size after 1 minute and then observes population growth for the next 59 minutes<br>\n",
    "    3. is incorrect; the growth rate in hours is not simply 0.1 * 60, but rather (1000 * (1 + 0.1)**60) / 1000 - 1 <br>\n",
    "    4. is correct; this expression finds the population size after 25 minutes and then observes population growth for the next 35 minutes<br>\n",
    "</details>\n",
    "\n",
    "**D. Assume that you have run the following statements**\n",
    "```\n",
    "x = 3\n",
    "y = \"4\"\n",
    "z = \"5.6\"\n",
    "```\n",
    "\n",
    "**What is the source of error in each example?**\n",
    "\n",
    "1. `x + y`\n",
    "2.  `str(x) + int(y)`\n",
    "3.  `str(x, y) + z`\n",
    "\n",
    "<details>\n",
    "    <summary>Solution</summary>\n",
    "    1: x is an integer and y is a string - x + y errors because we cannot add two values that are different types<br>\n",
    "    2: str(x) results in a string and int(y) results in a integer - str(x) + int(y) errors because we cannot add two values that are different types<br>\n",
    "    3. str() can only take one argument - str(x, y) is not a valid call.<br>\n",
    "</details>"
   ]
  }
 ],
 "metadata": {
  "kernelspec": {
   "display_name": "Python 3",
   "language": "python",
   "name": "python3"
  },
  "language_info": {
   "codemirror_mode": {
    "name": "ipython",
    "version": 3
   },
   "file_extension": ".py",
   "mimetype": "text/x-python",
   "name": "python",
   "nbconvert_exporter": "python",
   "pygments_lexer": "ipython3",
   "version": "3.6.9"
  }
 },
 "nbformat": 4,
 "nbformat_minor": 4
}
