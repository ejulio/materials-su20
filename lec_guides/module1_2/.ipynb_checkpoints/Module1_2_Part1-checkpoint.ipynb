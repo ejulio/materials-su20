{
 "cells": [
  {
   "cell_type": "code",
   "execution_count": 1,
   "metadata": {},
   "outputs": [],
   "source": [
    "# Run this cell by hitting CTRL + ENTER\n",
    "from IPython.display import YouTubeVideo\n",
    "from datascience import *"
   ]
  },
  {
   "cell_type": "markdown",
   "metadata": {},
   "source": [
    "# Module 1.2 Part 1: Tables I\n",
    "\n",
    "In this notebook, you'll learn how to use Python to process data stored in tables. You'll also learn how to manipulate tables to make the information they store more easily interpretable.\n",
    "\n",
    "This notebook includes 4 videos with a total runtime of 34:40.\n",
    "\n",
    "- [Introduction to Tables](#section1) *1 video, total runtime 3:59*\n",
    "- [Table Operations](#section2) *2 videos, total runtime 17:42*\n",
    "- [Bar Charts](#section3) *1 video, total runtime 12:59*\n",
    "- [Check for Understanding](#section4)\n",
    "\n",
    "\n",
    "Textbook Readings:\n",
    "- [Chapter 3.4: Introduction to Tables](https://www.inferentialthinking.com/chapters/03/4/Introduction_to_Tables.html)"
   ]
  },
  {
   "cell_type": "markdown",
   "metadata": {},
   "source": [
    "<a id='section1'></a>\n",
    "## 1. Introduction to Tables\n",
    "\n",
    "This video will introduce you to the structure of a Table. We use Tables to organize data in a way that allows us to conduct computations."
   ]
  },
  {
   "cell_type": "code",
   "execution_count": 2,
   "metadata": {},
   "outputs": [
    {
     "data": {
      "image/jpeg": "[encoded data removed]",
      "text/html": [
       "\n",
       "        <iframe\n",
       "            width=\"400\"\n",
       "            height=\"300\"\n",
       "            src=\"https://www.youtube.com/embed/3KcQVMZI-Ro\"\n",
       "            frameborder=\"0\"\n",
       "            allowfullscreen\n",
       "        ></iframe>\n",
       "        "
      ],
      "text/plain": [
       "<IPython.lib.display.YouTubeVideo at 0x7f344c3be668>"
      ]
     },
     "execution_count": 2,
     "metadata": {},
     "output_type": "execute_result"
    }
   ],
   "source": [
    "YouTubeVideo(\"3KcQVMZI-Ro\")"
   ]
  },
  {
   "cell_type": "markdown",
   "metadata": {},
   "source": [
    "In the cell below, set `flower` to the Table saved as `flowers.csv`."
   ]
  },
  {
   "cell_type": "code",
   "execution_count": 5,
   "metadata": {},
   "outputs": [
    {
     "data": {
      "text/html": [
       "<table border=\"1\" class=\"dataframe\">\n",
       "    <thead>\n",
       "        <tr>\n",
       "            <th>Petals</th> <th>Name</th> <th>Color</th>\n",
       "        </tr>\n",
       "    </thead>\n",
       "    <tbody>\n",
       "        <tr>\n",
       "            <td>8     </td> <td>lotus    </td> <td>pink  </td>\n",
       "        </tr>\n",
       "        <tr>\n",
       "            <td>34    </td> <td>sunflower</td> <td>yellow</td>\n",
       "        </tr>\n",
       "        <tr>\n",
       "            <td>5     </td> <td>rose     </td> <td>red   </td>\n",
       "        </tr>\n",
       "    </tbody>\n",
       "</table>"
      ],
      "text/plain": [
       "Petals | Name      | Color\n",
       "8      | lotus     | pink\n",
       "34     | sunflower | yellow\n",
       "5      | rose      | red"
      ]
     },
     "execution_count": 5,
     "metadata": {},
     "output_type": "execute_result"
    }
   ],
   "source": [
    "flowers = Table.read_table('flowers.csv')\n",
    "flowers"
   ]
  },
  {
   "cell_type": "markdown",
   "metadata": {},
   "source": [
    "<details>\n",
    "    <summary>Solution</summary>\n",
    "    flowers = Table.read_table(\"flowers.csv\")\n",
    "</details>"
   ]
  },
  {
   "cell_type": "markdown",
   "metadata": {},
   "source": [
    "<a id='section2'></a>\n",
    "## 2. Table Operations\n",
    "\n",
    "The following videos will introduce you to the functions and methods that can be used to manipulate Tables. These operations help us gain insight to our data and guide us towards meaningful interpretations of the information presented."
   ]
  },
  {
   "cell_type": "markdown",
   "metadata": {},
   "source": [
    "### Selecting Columns\n",
    "A Table might contain more information then you need. This video goes over the methods `select` and `drop`, which can be used to filter your data for relevant columns."
   ]
  },
  {
   "cell_type": "code",
   "execution_count": null,
   "metadata": {},
   "outputs": [],
   "source": [
    "YouTubeVideo(\"_ojpEI8z5rI\")"
   ]
  },
  {
   "cell_type": "markdown",
   "metadata": {},
   "source": [
    "Using `select`, use the cell below to return a copy of the `flowers` table that only contains information about the color of each flower."
   ]
  },
  {
   "cell_type": "code",
   "execution_count": 7,
   "metadata": {},
   "outputs": [
    {
     "data": {
      "text/html": [
       "<table border=\"1\" class=\"dataframe\">\n",
       "    <thead>\n",
       "        <tr>\n",
       "            <th>Color</th>\n",
       "        </tr>\n",
       "    </thead>\n",
       "    <tbody>\n",
       "        <tr>\n",
       "            <td>pink  </td>\n",
       "        </tr>\n",
       "        <tr>\n",
       "            <td>yellow</td>\n",
       "        </tr>\n",
       "        <tr>\n",
       "            <td>red   </td>\n",
       "        </tr>\n",
       "    </tbody>\n",
       "</table>"
      ],
      "text/plain": [
       "Color\n",
       "pink\n",
       "yellow\n",
       "red"
      ]
     },
     "execution_count": 7,
     "metadata": {},
     "output_type": "execute_result"
    }
   ],
   "source": [
    "flowers.select('Color')"
   ]
  },
  {
   "cell_type": "markdown",
   "metadata": {},
   "source": [
    "<details>\n",
    "    <summary>Solution</summary>\n",
    "    flowers.select(\"Color\")\n",
    "</details>"
   ]
  },
  {
   "cell_type": "markdown",
   "metadata": {},
   "source": [
    "Using `drop`, use the cell below to return a copy of the `flowers` table that only contains information about the color of each flower."
   ]
  },
  {
   "cell_type": "code",
   "execution_count": 8,
   "metadata": {},
   "outputs": [
    {
     "data": {
      "text/html": [
       "<table border=\"1\" class=\"dataframe\">\n",
       "    <thead>\n",
       "        <tr>\n",
       "            <th>Color</th>\n",
       "        </tr>\n",
       "    </thead>\n",
       "    <tbody>\n",
       "        <tr>\n",
       "            <td>pink  </td>\n",
       "        </tr>\n",
       "        <tr>\n",
       "            <td>yellow</td>\n",
       "        </tr>\n",
       "        <tr>\n",
       "            <td>red   </td>\n",
       "        </tr>\n",
       "    </tbody>\n",
       "</table>"
      ],
      "text/plain": [
       "Color\n",
       "pink\n",
       "yellow\n",
       "red"
      ]
     },
     "execution_count": 8,
     "metadata": {},
     "output_type": "execute_result"
    }
   ],
   "source": [
    "flowers.drop(['Petals', 'Name'])"
   ]
  },
  {
   "cell_type": "markdown",
   "metadata": {},
   "source": [
    "<details>\n",
    "    <summary>Solution</summary>\n",
    "    flowers.drop(\"Petals\", \"Name\")\n",
    "</details>"
   ]
  },
  {
   "cell_type": "markdown",
   "metadata": {},
   "source": [
    "### Sorting\n",
    "This video will show you how to sort a table based on the values of a specified column"
   ]
  },
  {
   "cell_type": "code",
   "execution_count": null,
   "metadata": {},
   "outputs": [],
   "source": [
    "YouTubeVideo(\"RGy3BM9nNW8\")"
   ]
  },
  {
   "cell_type": "markdown",
   "metadata": {},
   "source": [
    "In the cell below, use `sort` to sort the `flowers` table by the `Name` column in alphabetical order."
   ]
  },
  {
   "cell_type": "code",
   "execution_count": 9,
   "metadata": {},
   "outputs": [
    {
     "data": {
      "text/html": [
       "<table border=\"1\" class=\"dataframe\">\n",
       "    <thead>\n",
       "        <tr>\n",
       "            <th>Petals</th> <th>Name</th> <th>Color</th>\n",
       "        </tr>\n",
       "    </thead>\n",
       "    <tbody>\n",
       "        <tr>\n",
       "            <td>8     </td> <td>lotus    </td> <td>pink  </td>\n",
       "        </tr>\n",
       "        <tr>\n",
       "            <td>5     </td> <td>rose     </td> <td>red   </td>\n",
       "        </tr>\n",
       "        <tr>\n",
       "            <td>34    </td> <td>sunflower</td> <td>yellow</td>\n",
       "        </tr>\n",
       "    </tbody>\n",
       "</table>"
      ],
      "text/plain": [
       "Petals | Name      | Color\n",
       "8      | lotus     | pink\n",
       "5      | rose      | red\n",
       "34     | sunflower | yellow"
      ]
     },
     "execution_count": 9,
     "metadata": {},
     "output_type": "execute_result"
    }
   ],
   "source": [
    "flowers.sort('Name')"
   ]
  },
  {
   "cell_type": "markdown",
   "metadata": {},
   "source": [
    "<details>\n",
    "    <summary>Solution</summary>\n",
    "    flowers.sort(\"Name\")\n",
    "</details>"
   ]
  },
  {
   "cell_type": "markdown",
   "metadata": {},
   "source": [
    "In the cell below, use `sort` to sort the `flowers` table by the `Petals` column in descending order (largest to smallest)."
   ]
  },
  {
   "cell_type": "code",
   "execution_count": 11,
   "metadata": {},
   "outputs": [
    {
     "data": {
      "text/html": [
       "<table border=\"1\" class=\"dataframe\">\n",
       "    <thead>\n",
       "        <tr>\n",
       "            <th>Petals</th> <th>Name</th> <th>Color</th>\n",
       "        </tr>\n",
       "    </thead>\n",
       "    <tbody>\n",
       "        <tr>\n",
       "            <td>34    </td> <td>sunflower</td> <td>yellow</td>\n",
       "        </tr>\n",
       "        <tr>\n",
       "            <td>8     </td> <td>lotus    </td> <td>pink  </td>\n",
       "        </tr>\n",
       "        <tr>\n",
       "            <td>5     </td> <td>rose     </td> <td>red   </td>\n",
       "        </tr>\n",
       "    </tbody>\n",
       "</table>"
      ],
      "text/plain": [
       "Petals | Name      | Color\n",
       "34     | sunflower | yellow\n",
       "8      | lotus     | pink\n",
       "5      | rose      | red"
      ]
     },
     "execution_count": 11,
     "metadata": {},
     "output_type": "execute_result"
    }
   ],
   "source": [
    "flowers.sort('Petals', descending=True)"
   ]
  },
  {
   "cell_type": "markdown",
   "metadata": {},
   "source": [
    "<details>\n",
    "    <summary>Solution</summary>\n",
    "    flowers.sort(\"Petals\", descending = True)\n",
    "</details>"
   ]
  },
  {
   "cell_type": "markdown",
   "metadata": {},
   "source": [
    "<a id='section3'></a>\n",
    "## 3. Bar Charts\n",
    "\n",
    "When we have data with many rows, it can be difficult to interpret data by just looking at the table. In this video, you'll learn how to create bar charts from tables to more easily visualize data."
   ]
  },
  {
   "cell_type": "code",
   "execution_count": 12,
   "metadata": {},
   "outputs": [
    {
     "data": {
      "image/jpeg": "[encoded data removed]",
      "text/html": [
       "\n",
       "        <iframe\n",
       "            width=\"400\"\n",
       "            height=\"300\"\n",
       "            src=\"https://www.youtube.com/embed/vl8CJVoZpsA\"\n",
       "            frameborder=\"0\"\n",
       "            allowfullscreen\n",
       "        ></iframe>\n",
       "        "
      ],
      "text/plain": [
       "<IPython.lib.display.YouTubeVideo at 0x7f33cb177588>"
      ]
     },
     "execution_count": 12,
     "metadata": {},
     "output_type": "execute_result"
    }
   ],
   "source": [
    "YouTubeVideo(\"vl8CJVoZpsA\")"
   ]
  },
  {
   "cell_type": "markdown",
   "metadata": {},
   "source": [
    "<a id='section4'></a>\n",
    "## 4. Check for Understanding\n",
    "\n",
    "**A. True or false? The following is a valid table.**\n",
    "\n",
    "| Brand  | Haagen Dazs  | Humphry Slocombe  | Talenti            |\n",
    "|--------|--------------|-------------------|--------------------|\n",
    "| Flavor | Vanilla Bean | Vietnamese Coffee | Mediterranean Mint |\n",
    "| Price  | 3.89         | 4.54              | $4.78              |\n",
    "\n",
    "<details>\n",
    "    <summary>Solution</summary>\n",
    "    <b>False</b>, all values in a column must be of the same type\n",
    "</details>\n",
    "\n",
    "**B. Consider the following table `campus_buildings`:**\n",
    "\n",
    "| Building      | Floors |\n",
    "|---------------|------------------|\n",
    "| Evans Hall    | 12               |\n",
    "| Soda Hall     | 7                |\n",
    "| RSF           | 4                |\n",
    "| Dwinelle Hall | 7                |\n",
    "| Barrows Hall  | 10               |\n",
    "\n",
    "Which of the following lines of code produces the following output?\n",
    "\n",
    "| Building      | Floors |\n",
    "|---------------|------------------|\n",
    "| Evans Hall    | 12               |\n",
    "| Barrows Hall  | 10               |\n",
    "| Soda Hall     | 7                |\n",
    "| Dwinelle Hall | 7                |\n",
    "| RSF           | 4                |\n",
    "\n",
    "1. `campus_buildings.sort(\"Floors\")`\n",
    "2. `campus_buildings.sort(\"Floors\", descending = True)`\n",
    "3. `campus_buildings.sort(\"Floors\", descending = True).sort(\"Building\")`\n",
    "4. `campus_buildings.sort(\"Building\").sort(\"Floors\", descending = True)`\n",
    "\n",
    "<details>\n",
    "    <summary>Solution</summary>\n",
    "    <b>4. campus_buildings.sort(\"Building\").sort(\"Floors\", descending = True)</b>. The building names must be sorted before sorting by the number of floors in order to get Soda Hall to appear before Dwinelle Hall in the table.\n",
    "</details>"
   ]
  }
 ],
 "metadata": {
  "kernelspec": {
   "display_name": "Python 3",
   "language": "python",
   "name": "python3"
  },
  "language_info": {
   "codemirror_mode": {
    "name": "ipython",
    "version": 3
   },
   "file_extension": ".py",
   "mimetype": "text/x-python",
   "name": "python",
   "nbconvert_exporter": "python",
   "pygments_lexer": "ipython3",
   "version": "3.6.9"
  }
 },
 "nbformat": 4,
 "nbformat_minor": 4
}
