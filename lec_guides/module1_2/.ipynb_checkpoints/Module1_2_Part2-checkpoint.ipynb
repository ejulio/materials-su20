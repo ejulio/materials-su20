{
 "cells": [
  {
   "cell_type": "code",
   "execution_count": 1,
   "metadata": {},
   "outputs": [],
   "source": [
    "# Run this cell by hitting CTRL + ENTER\n",
    "from IPython.display import YouTubeVideo\n",
    "from datascience import *"
   ]
  },
  {
   "cell_type": "markdown",
   "metadata": {},
   "source": [
    "# Module 1.2 Part 2: Arrays and Columns\n",
    "\n",
    "In this notebook, you'll learn how to use arrays to store multiple values that can be manipulated together. You'll also learn how to work with the values of columns as arrays.\n",
    "\n",
    "This notebook includes 2 videos with a total runtime of 11:17.\n",
    "\n",
    "- [Arrays](#section1) *1 video, total runtime 3:21*\n",
    "- [Columns](#section2) *1 video, total runtime 7:56*\n",
    "- [Check for Understanding](#section3)\n",
    "\n",
    "\n",
    "Textbook Readings:\n",
    "- [Chapter 5: Sequences](https://www.inferentialthinking.com/chapters/05/Sequences.html)"
   ]
  },
  {
   "cell_type": "markdown",
   "metadata": {},
   "source": [
    "<a id='section1'></a>\n",
    "## 1. Arrays\n",
    "\n",
    "In this video, you'll learn about how to create arrays and use arrays in calculations."
   ]
  },
  {
   "cell_type": "code",
   "execution_count": null,
   "metadata": {},
   "outputs": [],
   "source": [
    "YouTubeVideo(\"q6cQBGP9wsQ\")"
   ]
  },
  {
   "cell_type": "markdown",
   "metadata": {},
   "source": [
    "For the following exercises, consider the following information about the three species of elephants.\n",
    "- The average weight of an African bush elephant is 12,000 pounds\n",
    "- The average weight of an Asian elephant is 8,800 pounds\n",
    "- The average weight of an African forest elephant is 6,000 pounds"
   ]
  },
  {
   "cell_type": "markdown",
   "metadata": {},
   "source": [
    "Assign `weight_lbs` to an array containing the average weight of each species of elephant in pounds."
   ]
  },
  {
   "cell_type": "code",
   "execution_count": 3,
   "metadata": {},
   "outputs": [],
   "source": [
    "weight_lbs = make_array(12_000, 8_800, 6_000)"
   ]
  },
  {
   "cell_type": "markdown",
   "metadata": {},
   "source": [
    "<details>\n",
    "    <summary>Solution</summary>\n",
    "    weight_lbs = make_array(12000, 8800, 6000)\n",
    "</details>"
   ]
  },
  {
   "cell_type": "markdown",
   "metadata": {},
   "source": [
    "Using `weight_lbs`, assign `weight_kgs` to an array containing the average weight of each species of elephant in kilograms. There are approximately 2.205 pounds in one kilogram."
   ]
  },
  {
   "cell_type": "code",
   "execution_count": 4,
   "metadata": {},
   "outputs": [],
   "source": [
    "weight_kgs = weight_lbs / 2.205"
   ]
  },
  {
   "cell_type": "markdown",
   "metadata": {},
   "source": [
    "<details>\n",
    "    <summary>Solution</summary>\n",
    "    weight_kgs = weight_lbs / 2.205\n",
    "</details>"
   ]
  },
  {
   "cell_type": "markdown",
   "metadata": {},
   "source": [
    "<a id='section2'></a>\n",
    "## 2. Columns\n",
    "\n",
    "In this video, you'll learn about how to extract columns of a table into an array. You'll also learn how to complete calculations involving columns and how to add new columns to tables."
   ]
  },
  {
   "cell_type": "code",
   "execution_count": null,
   "metadata": {},
   "outputs": [],
   "source": [
    "YouTubeVideo(\"n8R4pZQDl_8\")"
   ]
  },
  {
   "cell_type": "markdown",
   "metadata": {},
   "source": [
    "Run the cell below to load SAT data from 2014."
   ]
  },
  {
   "cell_type": "code",
   "execution_count": 5,
   "metadata": {},
   "outputs": [
    {
     "data": {
      "text/html": [
       "<table border=\"1\" class=\"dataframe\">\n",
       "    <thead>\n",
       "        <tr>\n",
       "            <th>State</th> <th>Participation Rate</th> <th>Critical Reading</th> <th>Math</th> <th>Writing</th> <th>Combined</th>\n",
       "        </tr>\n",
       "    </thead>\n",
       "    <tbody>\n",
       "        <tr>\n",
       "            <td>North Dakota</td> <td>2.3               </td> <td>612             </td> <td>620 </td> <td>584    </td> <td>1816    </td>\n",
       "        </tr>\n",
       "        <tr>\n",
       "            <td>Illinois    </td> <td>4.6               </td> <td>599             </td> <td>616 </td> <td>587    </td> <td>1802    </td>\n",
       "        </tr>\n",
       "        <tr>\n",
       "            <td>Iowa        </td> <td>3.1               </td> <td>605             </td> <td>611 </td> <td>578    </td> <td>1794    </td>\n",
       "        </tr>\n",
       "        <tr>\n",
       "            <td>South Dakota</td> <td>2.9               </td> <td>604             </td> <td>609 </td> <td>579    </td> <td>1792    </td>\n",
       "        </tr>\n",
       "        <tr>\n",
       "            <td>Minnesota   </td> <td>5.9               </td> <td>598             </td> <td>610 </td> <td>578    </td> <td>1786    </td>\n",
       "        </tr>\n",
       "        <tr>\n",
       "            <td>Michigan    </td> <td>3.8               </td> <td>593             </td> <td>610 </td> <td>581    </td> <td>1784    </td>\n",
       "        </tr>\n",
       "        <tr>\n",
       "            <td>Wisconsin   </td> <td>3.9               </td> <td>596             </td> <td>608 </td> <td>578    </td> <td>1782    </td>\n",
       "        </tr>\n",
       "        <tr>\n",
       "            <td>Missouri    </td> <td>4.2               </td> <td>595             </td> <td>597 </td> <td>579    </td> <td>1771    </td>\n",
       "        </tr>\n",
       "        <tr>\n",
       "            <td>Wyoming     </td> <td>3.3               </td> <td>590             </td> <td>599 </td> <td>573    </td> <td>1762    </td>\n",
       "        </tr>\n",
       "        <tr>\n",
       "            <td>Kansas      </td> <td>5.3               </td> <td>591             </td> <td>596 </td> <td>566    </td> <td>1753    </td>\n",
       "        </tr>\n",
       "    </tbody>\n",
       "</table>\n",
       "<p>... (41 rows omitted)</p>"
      ],
      "text/plain": [
       "State        | Participation Rate | Critical Reading | Math | Writing | Combined\n",
       "North Dakota | 2.3                | 612              | 620  | 584     | 1816\n",
       "Illinois     | 4.6                | 599              | 616  | 587     | 1802\n",
       "Iowa         | 3.1                | 605              | 611  | 578     | 1794\n",
       "South Dakota | 2.9                | 604              | 609  | 579     | 1792\n",
       "Minnesota    | 5.9                | 598              | 610  | 578     | 1786\n",
       "Michigan     | 3.8                | 593              | 610  | 581     | 1784\n",
       "Wisconsin    | 3.9                | 596              | 608  | 578     | 1782\n",
       "Missouri     | 4.2                | 595              | 597  | 579     | 1771\n",
       "Wyoming      | 3.3                | 590              | 599  | 573     | 1762\n",
       "Kansas       | 5.3                | 591              | 596  | 566     | 1753\n",
       "... (41 rows omitted)"
      ]
     },
     "execution_count": 5,
     "metadata": {},
     "output_type": "execute_result"
    }
   ],
   "source": [
    "sat2014 = Table.read_table('https://www.inferentialthinking.com/data/sat2014.csv')\n",
    "sat2014"
   ]
  },
  {
   "cell_type": "markdown",
   "metadata": {},
   "source": [
    "Set `combined_scores` to an array of all combined SAT scores from the table `sat2014`"
   ]
  },
  {
   "cell_type": "code",
   "execution_count": 9,
   "metadata": {},
   "outputs": [
    {
     "data": {
      "text/plain": [
       "array([1816, 1802, 1794, 1792, 1786, 1784, 1782, 1771, 1762, 1753, 1746,\n",
       "       1745, 1735, 1714, 1714, 1698, 1697, 1690, 1667, 1652, 1637, 1617,\n",
       "       1617, 1566, 1556, 1554, 1547, 1544, 1530, 1526, 1525, 1522, 1519,\n",
       "       1504, 1485, 1483, 1481, 1480, 1474, 1468, 1468, 1460, 1458, 1448,\n",
       "       1445, 1443, 1432, 1387, 1364, 1359, 1309])"
      ]
     },
     "execution_count": 9,
     "metadata": {},
     "output_type": "execute_result"
    }
   ],
   "source": [
    "combined_scores = sat2014.column('Combined')\n",
    "combined_scores"
   ]
  },
  {
   "cell_type": "markdown",
   "metadata": {},
   "source": [
    "<details>\n",
    "    <summary>Solution</summary>\n",
    "    combined_scores = sat2014.column(\"Combined\")\n",
    "</details>"
   ]
  },
  {
   "cell_type": "markdown",
   "metadata": {},
   "source": [
    "Set `states_writing_sorted` to an array of states, ordered by their writing scores from largest to smallest."
   ]
  },
  {
   "cell_type": "code",
   "execution_count": 12,
   "metadata": {},
   "outputs": [
    {
     "data": {
      "text/plain": [
       "array(['Illinois', 'North Dakota', 'Michigan', 'Missouri', 'South Dakota',\n",
       "       'Wisconsin', 'Minnesota', 'Iowa', 'Wyoming', 'Kentucky',\n",
       "       'Nebraska', 'Colorado', 'Tennessee', 'Kansas', 'Mississippi',\n",
       "       'Arkansas', 'Utah', 'Louisiana', 'Oklahoma', 'Ohio', 'Alabama',\n",
       "       'Montana', 'New Mexico', 'New Hampshire', 'Massachusetts',\n",
       "       'Connecticut', 'Vermont', 'New Jersey', 'West Virginia', 'Arizona',\n",
       "       'Oregon', 'Virginia', 'California', 'Washington', 'Rhode Island',\n",
       "       'Maryland', 'Pennsylvania', 'New York', 'Indiana',\n",
       "       'North Carolina', 'Alaska', 'Georgia', 'Florida', 'Hawaii',\n",
       "       'Nevada', 'South Carolina', 'Texas', 'Idaho', 'Maine', 'Delaware',\n",
       "       'District of Columbia'], dtype='<U20')"
      ]
     },
     "execution_count": 12,
     "metadata": {},
     "output_type": "execute_result"
    }
   ],
   "source": [
    "states_writing_sorted = sat2014.sort('Writing', descending=True).column('State')\n",
    "states_writing_sorted"
   ]
  },
  {
   "cell_type": "markdown",
   "metadata": {},
   "source": [
    "<details>\n",
    "    <summary>Solution</summary>\n",
    "    states_writing_sorted = sat2014.sort(\"Writing\", descending = True).column(\"State\")\n",
    "</details>"
   ]
  },
  {
   "cell_type": "markdown",
   "metadata": {},
   "source": [
    "Add a column `math:writing ratio` to the table `sat2014` that contains the ratio of math scores to writing scores for each state."
   ]
  },
  {
   "cell_type": "code",
   "execution_count": 14,
   "metadata": {},
   "outputs": [
    {
     "data": {
      "text/html": [
       "<table border=\"1\" class=\"dataframe\">\n",
       "    <thead>\n",
       "        <tr>\n",
       "            <th>State</th> <th>Participation Rate</th> <th>Critical Reading</th> <th>Math</th> <th>Writing</th> <th>Combined</th> <th>math:writing ratio</th>\n",
       "        </tr>\n",
       "    </thead>\n",
       "    <tbody>\n",
       "        <tr>\n",
       "            <td>North Dakota</td> <td>2.3               </td> <td>612             </td> <td>620 </td> <td>584    </td> <td>1816    </td> <td>1.06164           </td>\n",
       "        </tr>\n",
       "        <tr>\n",
       "            <td>Illinois    </td> <td>4.6               </td> <td>599             </td> <td>616 </td> <td>587    </td> <td>1802    </td> <td>1.0494            </td>\n",
       "        </tr>\n",
       "        <tr>\n",
       "            <td>Iowa        </td> <td>3.1               </td> <td>605             </td> <td>611 </td> <td>578    </td> <td>1794    </td> <td>1.05709           </td>\n",
       "        </tr>\n",
       "        <tr>\n",
       "            <td>South Dakota</td> <td>2.9               </td> <td>604             </td> <td>609 </td> <td>579    </td> <td>1792    </td> <td>1.05181           </td>\n",
       "        </tr>\n",
       "        <tr>\n",
       "            <td>Minnesota   </td> <td>5.9               </td> <td>598             </td> <td>610 </td> <td>578    </td> <td>1786    </td> <td>1.05536           </td>\n",
       "        </tr>\n",
       "        <tr>\n",
       "            <td>Michigan    </td> <td>3.8               </td> <td>593             </td> <td>610 </td> <td>581    </td> <td>1784    </td> <td>1.04991           </td>\n",
       "        </tr>\n",
       "        <tr>\n",
       "            <td>Wisconsin   </td> <td>3.9               </td> <td>596             </td> <td>608 </td> <td>578    </td> <td>1782    </td> <td>1.0519            </td>\n",
       "        </tr>\n",
       "        <tr>\n",
       "            <td>Missouri    </td> <td>4.2               </td> <td>595             </td> <td>597 </td> <td>579    </td> <td>1771    </td> <td>1.03109           </td>\n",
       "        </tr>\n",
       "        <tr>\n",
       "            <td>Wyoming     </td> <td>3.3               </td> <td>590             </td> <td>599 </td> <td>573    </td> <td>1762    </td> <td>1.04538           </td>\n",
       "        </tr>\n",
       "        <tr>\n",
       "            <td>Kansas      </td> <td>5.3               </td> <td>591             </td> <td>596 </td> <td>566    </td> <td>1753    </td> <td>1.053             </td>\n",
       "        </tr>\n",
       "    </tbody>\n",
       "</table>\n",
       "<p>... (41 rows omitted)</p>"
      ],
      "text/plain": [
       "State        | Participation Rate | Critical Reading | Math | Writing | Combined | math:writing ratio\n",
       "North Dakota | 2.3                | 612              | 620  | 584     | 1816     | 1.06164\n",
       "Illinois     | 4.6                | 599              | 616  | 587     | 1802     | 1.0494\n",
       "Iowa         | 3.1                | 605              | 611  | 578     | 1794     | 1.05709\n",
       "South Dakota | 2.9                | 604              | 609  | 579     | 1792     | 1.05181\n",
       "Minnesota    | 5.9                | 598              | 610  | 578     | 1786     | 1.05536\n",
       "Michigan     | 3.8                | 593              | 610  | 581     | 1784     | 1.04991\n",
       "Wisconsin    | 3.9                | 596              | 608  | 578     | 1782     | 1.0519\n",
       "Missouri     | 4.2                | 595              | 597  | 579     | 1771     | 1.03109\n",
       "Wyoming      | 3.3                | 590              | 599  | 573     | 1762     | 1.04538\n",
       "Kansas       | 5.3                | 591              | 596  | 566     | 1753     | 1.053\n",
       "... (41 rows omitted)"
      ]
     },
     "execution_count": 14,
     "metadata": {},
     "output_type": "execute_result"
    }
   ],
   "source": [
    "sat2014.with_column(\n",
    "    'math:writing ratio',\n",
    "    sat2014.column('Math') / sat2014.column('Writing')\n",
    ")"
   ]
  },
  {
   "cell_type": "markdown",
   "metadata": {},
   "source": [
    "<details>\n",
    "    <summary>Solution</summary>\n",
    "    sat2014.with_column(\"math:writing ratio\", sat2014.column(\"Math\")/sat2014.column(\"Writing\"))\n",
    "</details>"
   ]
  },
  {
   "cell_type": "markdown",
   "metadata": {},
   "source": [
    "<a id='section3'></a>\n",
    "## 3. Check for Understanding\n",
    "\n",
    "**A. Consider the following table `vending_machine`**\n",
    "\n",
    "| Item  | Price |\n",
    "|-------|-------|\n",
    "| Chips | 1.50  |\n",
    "| Candy | 1.25  |\n",
    "| Water | 1     |\n",
    "\n",
    "**Will this line of code run without error?**\n",
    "\n",
    "``\n",
    "vending_machine.with_column(\"Sugar Content\", make_array(5, 18, 0, 4))\n",
    "``\n",
    "\n",
    "<details>\n",
    "    <summary>Solution</summary>\n",
    "    <b>No</b>, this line of code will error since the column being added has more items than the number of rows in the original table.\n",
    "</details>\n",
    "\n",
    "**B. Which of the options is the output of the following line of code?**\n",
    "\n",
    "``\n",
    "make_array(2, 4, 5) + make_array(24, 1, 6) * 2\n",
    "``\n",
    "\n",
    "1. 84\n",
    "2. 73\n",
    "3. array([50, 6, 17])\n",
    "4. array([52, 10, 22])\n",
    "\n",
    "<details>\n",
    "    <summary>Solution</summary>\n",
    "    <b>3. array([50, 6, 17])</b>\n",
    "</details>"
   ]
  }
 ],
 "metadata": {
  "kernelspec": {
   "display_name": "Python 3",
   "language": "python",
   "name": "python3"
  },
  "language_info": {
   "codemirror_mode": {
    "name": "ipython",
    "version": 3
   },
   "file_extension": ".py",
   "mimetype": "text/x-python",
   "name": "python",
   "nbconvert_exporter": "python",
   "pygments_lexer": "ipython3",
   "version": "3.6.9"
  }
 },
 "nbformat": 4,
 "nbformat_minor": 4
}
