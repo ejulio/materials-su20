{
 "cells": [
  {
   "cell_type": "code",
   "execution_count": 1,
   "metadata": {},
   "outputs": [],
   "source": [
    "# Run cells by clicking on them and hitting CTRL + ENTER on your keyboard\n",
    "from IPython.display import YouTubeVideo\n",
    "from datascience import *\n",
    "import numpy as np\n",
    "%matplotlib inline"
   ]
  },
  {
   "cell_type": "markdown",
   "metadata": {},
   "source": [
    "# Module 2.2 Part 4: Tables Review\n",
    "\n",
    "In this lecture guide, you'll review the table manipulation operations that you've seen so far. You'll\n",
    "also discover how comparison operators and the `where` method can be used to subset the rows of table.\n",
    "\n",
    "4 videos make up this notebook, for a total run time of 30:19.\n",
    "\n",
    "1. [Table Methods Review](#section1) *1 video, total runtime 7:16*\n",
    "2. [Advanced Where](#section2) *1 video, total runtime 8:59*\n",
    "3. [Check for Understanding](#section3) *2 videos, total runtime 14:04*\n",
    "\n",
    "Textbook readings: [Chapter 8: Functions and Tables](https://www.inferentialthinking.com/chapters/08/Functions_and_Tables.html)"
   ]
  },
  {
   "cell_type": "markdown",
   "metadata": {},
   "source": [
    "<a id='section1'></a>\n",
    "## 1. Table Methods Review\n",
    "\n",
    "In the first video of this lecture guide, we'll review the most important table methods that we've seen so far.\n",
    "Here's a link to the `datascience` module's [table methods documentation](http://data8.org/datascience/tables.html).\n",
    "It provides a complete list of methods and examples. The course's [Python Reference](http://data8.org/su20/python-reference.html)\n",
    "sheet is also a helpful resource, and is easier to navigate than the `datascience` documentation."
   ]
  },
  {
   "cell_type": "code",
   "execution_count": 2,
   "metadata": {},
   "outputs": [
    {
     "data": {
      "image/jpeg": "[encoded data removed]",
      "text/html": [
       "\n",
       "        <iframe\n",
       "            width=\"400\"\n",
       "            height=\"300\"\n",
       "            src=\"https://www.youtube.com/embed/tGQfKdCISbA\"\n",
       "            frameborder=\"0\"\n",
       "            allowfullscreen\n",
       "        ></iframe>\n",
       "        "
      ],
      "text/plain": [
       "<IPython.lib.display.YouTubeVideo at 0x7f5afc746828>"
      ]
     },
     "execution_count": 2,
     "metadata": {},
     "output_type": "execute_result"
    }
   ],
   "source": [
    "YouTubeVideo('tGQfKdCISbA')"
   ]
  },
  {
   "cell_type": "markdown",
   "metadata": {},
   "source": [
    "The `drinks` and `discounts` table presented in lecture 12.1 are provided in the cell below.\n",
    "Use them to review the table methods alongside Professor DeNero."
   ]
  },
  {
   "cell_type": "code",
   "execution_count": null,
   "metadata": {},
   "outputs": [],
   "source": [
    "# create the tables\n",
    "drinks = Table(['Drink', 'Cafe', 'Price']).with_rows([\n",
    "    ['Milk Tea', 'Tea One', 4],\n",
    "    ['Espresso', 'Nefeli', 2],\n",
    "    ['Coffee', 'Nefeli', 3],\n",
    "    ['Espresso', \"Abe's\", 2]\n",
    "])\n",
    "\n",
    "discounts = Table().with_columns(\n",
    "    'Coupon % Off', make_array(5, 50, 25),\n",
    "    'Location', make_array('Tea One', 'Nefeli', 'Tea One')\n",
    ")"
   ]
  },
  {
   "cell_type": "code",
   "execution_count": null,
   "metadata": {},
   "outputs": [],
   "source": [
    "# follow along here!\n",
    "..."
   ]
  },
  {
   "cell_type": "markdown",
   "metadata": {},
   "source": [
    "<a id='section2'></a>\n",
    "## 2. Advanced Where\n",
    "\n",
    "Next, you'll learn how efficiently subset the rows of a table using comparison operators and the `where` method."
   ]
  },
  {
   "cell_type": "code",
   "execution_count": null,
   "metadata": {},
   "outputs": [],
   "source": [
    "YouTubeVideo('nUZOdd-w8-s')"
   ]
  },
  {
   "cell_type": "markdown",
   "metadata": {},
   "source": [
    "Using the NBA salaries data in the cell below, filter out all players whose salary was less than \\\\$10,000,000.\n",
    "How many players had a salary of \\\\$10,000,000 or more during the 2015-2016 season?"
   ]
  },
  {
   "cell_type": "code",
   "execution_count": null,
   "metadata": {},
   "outputs": [],
   "source": [
    "# load the nba player salary data\n",
    "nba_salaries =  Table.read_table('https://www.inferentialthinking.com/data/nba_salaries.csv')\n",
    "\n",
    "# subset the table\n",
    "nba_salaries_over_10_mil = ...\n",
    "\n",
    "# count the number of players getting payed over $10,000,000\n",
    "..."
   ]
  },
  {
   "cell_type": "markdown",
   "metadata": {},
   "source": [
    "<details>\n",
    "    <summary>Solution</summary>\n",
    "    # subset the table <br>\n",
    "    nba_salaries_over_10_mil = nba_salaries.where(nba_salaries.column(3) > 10) <br>\n",
    "    <br>\n",
    "    # count the number of players getting payed over \\$10,000,000 <br>\n",
    "    nba_salaries_over_10_mil.num_rows <br>\n",
    "</details>\n",
    "<br>"
   ]
  },
  {
   "cell_type": "markdown",
   "metadata": {},
   "source": [
    "<a id='section3'></a>\n",
    "## 3. Check for Understanding\n",
    "\n",
    "**A. True or False. The first argument of the** `apply` **method is the column of the table to which the specified function\n",
    "will be applied.**\n",
    "\n",
    "<details>\n",
    "    <summary>Solution</summary>\n",
    "    False. The first argument corresponds to the function to be applied to the column, which is provided as the\n",
    "    second argument.\n",
    "</details>\n",
    "<br>\n",
    "\n",
    "**B. Which table method does the following definition correspond to?**\n",
    "\"Return a new Table with selected rows taken by index.\"\n",
    "\n",
    "<details>\n",
    "    <summary>Solution</summary>\n",
    "    This definition corresponds to the \"take\" method.\n",
    "</details>\n",
    "<br>\n",
    "\n",
    "**C. True or False. The** `sort` **method returns a table of rows sorted in decreasing order of the values\n",
    "in the selected column.**\n",
    "\n",
    "<details>\n",
    "    <summary>Solution</summary>\n",
    "    False. Values are sorted in increasing order by default.\n",
    "</details>\n",
    "<br>\n",
    "\n",
    "**D. Attempt the question presented in the following video. Use the code cell that is provided directly below the video.**"
   ]
  },
  {
   "cell_type": "code",
   "execution_count": null,
   "metadata": {},
   "outputs": [],
   "source": [
    "YouTubeVideo('79W7XQHnWxo')"
   ]
  },
  {
   "cell_type": "code",
   "execution_count": null,
   "metadata": {},
   "outputs": [],
   "source": [
    "# create the tables\n",
    "drinks = Table(['Drink', 'Cafe', 'Price']).with_rows([\n",
    "    ['Milk Tea', 'Tea One', 4],\n",
    "    ['Espresso', 'Nefeli', 2],\n",
    "    ['Coffee', 'Nefeli', 3],\n",
    "    ['Espresso', \"Abe's\", 2]\n",
    "])\n",
    "\n",
    "discounts = Table().with_columns(\n",
    "    'Coupon % Off', make_array(5, 50, 25),\n",
    "    'Location', make_array('Tea One', 'Nefeli', 'Tea One')\n",
    ")\n",
    "\n",
    "# answer below:\n",
    "..."
   ]
  },
  {
   "cell_type": "markdown",
   "metadata": {},
   "source": [
    "**E. Spring 2016 Midterm, Question 2b. Use the code cells and data in the cells below the video for your scratchwork.**"
   ]
  },
  {
   "cell_type": "code",
   "execution_count": null,
   "metadata": {},
   "outputs": [],
   "source": [
    "YouTubeVideo('4ljo9LqtmYI')"
   ]
  },
  {
   "cell_type": "code",
   "execution_count": null,
   "metadata": {},
   "outputs": [],
   "source": [
    "# prepare the table\n",
    "trips = Table.read_table('https://www.inferentialthinking.com/data/trip.csv') \\\n",
    "    .where('Duration', are.below(1800)) \\\n",
    "    .select(3, 6, 1) \\\n",
    "    .relabeled(['Start Station', 'End Station', 'Duration'], ['Start', 'End', 'Duration'])"
   ]
  },
  {
   "cell_type": "code",
   "execution_count": null,
   "metadata": {},
   "outputs": [],
   "source": [
    "# scratchwork here\n",
    "..."
   ]
  }
 ],
 "metadata": {
  "kernelspec": {
   "display_name": "Python 3",
   "language": "python",
   "name": "python3"
  },
  "language_info": {
   "codemirror_mode": {
    "name": "ipython",
    "version": 3
   },
   "file_extension": ".py",
   "mimetype": "text/x-python",
   "name": "python",
   "nbconvert_exporter": "python",
   "pygments_lexer": "ipython3",
   "version": "3.6.9"
  }
 },
 "nbformat": 4,
 "nbformat_minor": 4
}
