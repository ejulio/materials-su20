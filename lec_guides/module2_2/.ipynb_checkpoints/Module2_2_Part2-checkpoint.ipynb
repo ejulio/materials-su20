{
 "cells": [
  {
   "cell_type": "code",
   "execution_count": 2,
   "metadata": {},
   "outputs": [],
   "source": [
    "# Run cells by clicking on them and hitting CTRL + ENTER on your keyboard\n",
    "from IPython.display import YouTubeVideo\n",
    "from datascience import *\n",
    "import numpy as np\n",
    "%matplotlib inline"
   ]
  },
  {
   "cell_type": "markdown",
   "metadata": {},
   "source": [
    "# Module 2.2 Part 2: Groups\n",
    "\n",
    "This lecture guide introduces various ways to summarize a dataset's categorical variables.\n",
    "\n",
    "6 videos make up this notebook, for a total run time of 61:00.\n",
    "\n",
    "1. [Grouping One Attribute](#section1) *1 video, total runtime 14:38*\n",
    "2. [Cross-Classification](#section2) *1 videos, total runtime 11:07*\n",
    "3. [Pivot Tables](#section3) *1 video, total runtime 13:08*\n",
    "4. [Comparing Distributions](#section4) *1 video, total runtime 12:00*\n",
    "5. [Check for Understanding](#section5) *2 videos, total runtime 10:07*\n",
    "\n",
    "Textbook readings: [Chapter 8: Functions and Tables](https://www.inferentialthinking.com/chapters/08/Functions_and_Tables.html)"
   ]
  },
  {
   "cell_type": "markdown",
   "metadata": {},
   "source": [
    "<a id='section1'></a>\n",
    "## 1. Grouping One Attribute\n",
    "\n",
    "First, let's see how the `group` method can be used to summarize a table's categorical variables."
   ]
  },
  {
   "cell_type": "code",
   "execution_count": null,
   "metadata": {},
   "outputs": [],
   "source": [
    "YouTubeVideo(\"n0jAwei6zGY\")"
   ]
  },
  {
   "cell_type": "markdown",
   "metadata": {},
   "source": [
    "Using the `nba_salaries` table loaded in the cell below, compute the average salary of the players on each\n",
    "team during the 2015-2016 NBA season. Which team payed it's players the most, on average?"
   ]
  },
  {
   "cell_type": "code",
   "execution_count": 9,
   "metadata": {},
   "outputs": [
    {
     "data": {
      "text/html": [
       "<table border=\"1\" class=\"dataframe\">\n",
       "    <thead>\n",
       "        <tr>\n",
       "            <th>TEAM</th> <th>SALARY mean</th>\n",
       "        </tr>\n",
       "    </thead>\n",
       "    <tbody>\n",
       "        <tr>\n",
       "            <td>Cleveland Cavaliers  </td> <td>10.2312    </td>\n",
       "        </tr>\n",
       "        <tr>\n",
       "            <td>Houston Rockets      </td> <td>7.10715    </td>\n",
       "        </tr>\n",
       "        <tr>\n",
       "            <td>Miami Heat           </td> <td>6.79406    </td>\n",
       "        </tr>\n",
       "        <tr>\n",
       "            <td>Golden State Warriors</td> <td>6.72037    </td>\n",
       "        </tr>\n",
       "        <tr>\n",
       "            <td>Chicago Bulls        </td> <td>6.56841    </td>\n",
       "        </tr>\n",
       "        <tr>\n",
       "            <td>San Antonio Spurs    </td> <td>6.5117     </td>\n",
       "        </tr>\n",
       "        <tr>\n",
       "            <td>Los Angeles Lakers   </td> <td>6.23709    </td>\n",
       "        </tr>\n",
       "        <tr>\n",
       "            <td>Sacramento Kings     </td> <td>6.21681    </td>\n",
       "        </tr>\n",
       "        <tr>\n",
       "            <td>Oklahoma City Thunder</td> <td>6.05201    </td>\n",
       "        </tr>\n",
       "        <tr>\n",
       "            <td>Dallas Mavericks     </td> <td>5.97841    </td>\n",
       "        </tr>\n",
       "    </tbody>\n",
       "</table>\n",
       "<p>... (20 rows omitted)</p>"
      ],
      "text/plain": [
       "TEAM                  | SALARY mean\n",
       "Cleveland Cavaliers   | 10.2312\n",
       "Houston Rockets       | 7.10715\n",
       "Miami Heat            | 6.79406\n",
       "Golden State Warriors | 6.72037\n",
       "Chicago Bulls         | 6.56841\n",
       "San Antonio Spurs     | 6.5117\n",
       "Los Angeles Lakers    | 6.23709\n",
       "Sacramento Kings      | 6.21681\n",
       "Oklahoma City Thunder | 6.05201\n",
       "Dallas Mavericks      | 5.97841\n",
       "... (20 rows omitted)"
      ]
     },
     "execution_count": 9,
     "metadata": {},
     "output_type": "execute_result"
    }
   ],
   "source": [
    "# load the nba dataset\n",
    "nba_salaries =  Table.read_table('https://www.inferentialthinking.com/data/nba_salaries.csv')\n",
    "\n",
    "# relabel the '15-'16 SALARY column to SALARY\n",
    "nba_salaries = nba_salaries.relabel(\"'15-'16 SALARY\", 'SALARY')\n",
    "\n",
    "# get average salary of each team\n",
    "(\n",
    "    nba_salaries\n",
    "    .select('TEAM', 'SALARY')\n",
    "    .group('TEAM', np.mean)\n",
    "    .sort('SALARY mean', descending=True)\n",
    ")"
   ]
  },
  {
   "cell_type": "markdown",
   "metadata": {},
   "source": [
    "<details>\n",
    "    <summary>Solution</summary>\n",
    "    <b>Code</b>: <br>\n",
    "    # relabel the '15-'16 SALARY column to SALARY <br>\n",
    "    nba_salaries = nba_salaries.relabeled(3, 'SALARY') <br>\n",
    "    # get average salary of each team <br>\n",
    "    nba_salaries.select('TEAM', 'SALARY').group('TEAM', np.average).sort('SALARY average', descending = True) <br>\n",
    "    <br>\n",
    "    The Cleveland Cavaliers were the team with the highest average salary in 2015-2016.\n",
    "</details>\n",
    "<br>"
   ]
  },
  {
   "cell_type": "markdown",
   "metadata": {},
   "source": [
    "<a id='section2'></a>\n",
    "## 2. Cross-Classification\n",
    "\n",
    "In the next video, you'll see how `group` can summarize the relationship between multiple categorical variables."
   ]
  },
  {
   "cell_type": "code",
   "execution_count": null,
   "metadata": {},
   "outputs": [],
   "source": [
    "YouTubeVideo(\"9NGa2MaDPxw\")"
   ]
  },
  {
   "cell_type": "markdown",
   "metadata": {},
   "source": [
    "<a id='section3'></a>\n",
    "\n",
    "## 3. Pivot Tables\n",
    "\n",
    "Pivot tables offer an easy way to cross-classify two categorical variables. In the following video, you'll learn how\n",
    "to use the `pivot` method."
   ]
  },
  {
   "cell_type": "code",
   "execution_count": null,
   "metadata": {},
   "outputs": [],
   "source": [
    "YouTubeVideo(\"JSgaMnExiCY\")"
   ]
  },
  {
   "cell_type": "markdown",
   "metadata": {},
   "source": [
    "The table loaded below contains information on the population of Califonian adults in 2014. The population\n",
    "is stratified by age, gender, educational attainment, and personal income. The *Population Count* variable\n",
    "describes the size of the strata. Create a pivot table summarizing the total population count for every possible\n",
    "combination of educational attainment and personal income."
   ]
  },
  {
   "cell_type": "code",
   "execution_count": 12,
   "metadata": {},
   "outputs": [
    {
     "data": {
      "text/html": [
       "<table border=\"1\" class=\"dataframe\">\n",
       "    <thead>\n",
       "        <tr>\n",
       "            <th>Personal Income</th> <th>Bachelor's degree or higher</th> <th>College, less than 4-yr degree</th> <th>High school or equivalent</th> <th>No high school diploma</th>\n",
       "        </tr>\n",
       "    </thead>\n",
       "    <tbody>\n",
       "        <tr>\n",
       "            <td>A: 0 to 4,999      </td> <td>575491                     </td> <td>985011                        </td> <td>1161873                  </td> <td>1204529               </td>\n",
       "        </tr>\n",
       "        <tr>\n",
       "            <td>B: 5,000 to 9,999  </td> <td>326020                     </td> <td>810641                        </td> <td>626499                   </td> <td>597039                </td>\n",
       "        </tr>\n",
       "        <tr>\n",
       "            <td>C: 10,000 to 14,999</td> <td>452449                     </td> <td>798596                        </td> <td>692661                   </td> <td>664607                </td>\n",
       "        </tr>\n",
       "        <tr>\n",
       "            <td>D: 15,000 to 24,999</td> <td>773684                     </td> <td>1345257                       </td> <td>1252377                  </td> <td>875498                </td>\n",
       "        </tr>\n",
       "        <tr>\n",
       "            <td>E: 25,000 to 34,999</td> <td>693884                     </td> <td>1091642                       </td> <td>929218                   </td> <td>464564                </td>\n",
       "        </tr>\n",
       "        <tr>\n",
       "            <td>F: 35,000 to 49,999</td> <td>1122791                    </td> <td>1112421                       </td> <td>782804                   </td> <td>260579                </td>\n",
       "        </tr>\n",
       "        <tr>\n",
       "            <td>G: 50,000 to 74,999</td> <td>1594681                    </td> <td>883826                        </td> <td>525517                   </td> <td>132516                </td>\n",
       "        </tr>\n",
       "        <tr>\n",
       "            <td>H: 75,000 and over </td> <td>2986698                    </td> <td>748103                        </td> <td>323192                   </td> <td>58945                 </td>\n",
       "        </tr>\n",
       "    </tbody>\n",
       "</table>"
      ],
      "text/plain": [
       "Personal Income     | Bachelor's degree or higher | College, less than 4-yr degree | High school or equivalent | No high school diploma\n",
       "A: 0 to 4,999       | 575491                      | 985011                         | 1161873                   | 1204529\n",
       "B: 5,000 to 9,999   | 326020                      | 810641                         | 626499                    | 597039\n",
       "C: 10,000 to 14,999 | 452449                      | 798596                         | 692661                    | 664607\n",
       "D: 15,000 to 24,999 | 773684                      | 1345257                        | 1252377                   | 875498\n",
       "E: 25,000 to 34,999 | 693884                      | 1091642                        | 929218                    | 464564\n",
       "F: 35,000 to 49,999 | 1122791                     | 1112421                        | 782804                    | 260579\n",
       "G: 50,000 to 74,999 | 1594681                     | 883826                         | 525517                    | 132516\n",
       "H: 75,000 and over  | 2986698                     | 748103                         | 323192                    | 58945"
      ]
     },
     "execution_count": 12,
     "metadata": {},
     "output_type": "execute_result"
    }
   ],
   "source": [
    "# prepare the data (cleaned for your convenience!)\n",
    "ca_full_table = Table.read_table('https://www.inferentialthinking.com/data/educ_inc.csv')\n",
    "ca_2014 = ca_full_table \\\n",
    "    .where('Year', are.equal_to('1/1/14 0:00')) \\\n",
    "    .where('Age', are.not_containing('00 to 17')) \\\n",
    "    .select('Age', 'Gender', 'Educational Attainment', 'Personal Income', 'Population Count')\n",
    "\n",
    "# create the pivot table\n",
    "ca_2014.pivot('Educational Attainment', 'Personal Income', 'Population Count', sum)"
   ]
  },
  {
   "cell_type": "markdown",
   "metadata": {},
   "source": [
    "<details>\n",
    "    <summary>Solution</summary>\n",
    "    ca_2014.pivot('Educational Attainment', 'Personal Income', 'Population Count', sum) <br>\n",
    "    <br>\n",
    "    Note: The next video gives another, slightly different solution.\n",
    "</details>\n",
    "<br>"
   ]
  },
  {
   "cell_type": "markdown",
   "metadata": {},
   "source": [
    "<a id='section4'></a>\n",
    "\n",
    "## 4. Comparing Distributions\n",
    "\n",
    "In the following video, you'll see how pivot tables and bar charts can be used to stratify categorical variables' distributions."
   ]
  },
  {
   "cell_type": "code",
   "execution_count": null,
   "metadata": {},
   "outputs": [],
   "source": [
    "YouTubeVideo(\"YqN8OYt8Upw\")"
   ]
  },
  {
   "cell_type": "markdown",
   "metadata": {},
   "source": [
    "Use the `ca_2014` table from before to compare the distribution of personal income stratified by gender.\n",
    "Are the distributions similar? Can you identify any flaws this data?"
   ]
  },
  {
   "cell_type": "code",
   "execution_count": 19,
   "metadata": {},
   "outputs": [
    {
     "data": {
      "image/png": "[encoded data removed]",
      "text/plain": [
       "<Figure size 432x288 with 1 Axes>"
      ]
     },
     "metadata": {
      "needs_background": "light"
     },
     "output_type": "display_data"
    }
   ],
   "source": [
    "# don't forget to convert counts to percents!\n",
    "def percent(x):\n",
    "    return np.round((x / sum(x)) * 100, 2)\n",
    "\n",
    "# compute the categorical distribution\n",
    "gender_income = ca_2014.pivot('Gender', 'Personal Income', 'Population Count', sum)\n",
    "distributions = gender_income.with_columns(\n",
    "    'Female', percent(gender_income.column('Female')),\n",
    "    'Male', percent(gender_income.column('Male'))\n",
    ")\n",
    "\n",
    "# plot the distribution\n",
    "distributions.barh('Personal Income')"
   ]
  },
  {
   "cell_type": "markdown",
   "metadata": {},
   "source": [
    "<details>\n",
    "    <summary>Solution</summary>\n",
    "    <b>Code</b>: <br>\n",
    "    # compute the categorical distribution <br>\n",
    "    gender_income = ca_2014.pivot('Gender', 'Personal Income', 'Population Count', sum) <br>\n",
    "    distributions = gender_income.with_columns( <br>\n",
    "        'Female', percent(gender_income.column('Female')), <br>\n",
    "        'Male', percent(gender_income.column('Male')), <br>\n",
    "    ) <br>\n",
    "    <br>\n",
    "    # plot the distribution <br>\n",
    "    distributions.barh('Personal Income') <br>\n",
    "    <br>\n",
    "    <b>Interpretation</b>: <br>\n",
    "    Unfortunately, the personal income distributions are different. Women tend to have lower\n",
    "    paying jobs than men. Further, this data is flawed: only two genders are considered. This\n",
    "    data is biased because it fails to account for individuals who do not identify as male or\n",
    "    female. \n",
    "</details>\n",
    "<br>"
   ]
  },
  {
   "cell_type": "markdown",
   "metadata": {},
   "source": [
    "<a id='section5'></a>\n",
    "\n",
    "## 5. Check for Understanding\n",
    "\n",
    "**A. Attempt the question posed in the following video. Use the `group` method .**"
   ]
  },
  {
   "cell_type": "code",
   "execution_count": 20,
   "metadata": {},
   "outputs": [
    {
     "data": {
      "image/jpeg": "[encoded data removed]",
      "text/html": [
       "\n",
       "        <iframe\n",
       "            width=\"400\"\n",
       "            height=\"300\"\n",
       "            src=\"https://www.youtube.com/embed/8MZW99WJcXs\"\n",
       "            frameborder=\"0\"\n",
       "            allowfullscreen\n",
       "        ></iframe>\n",
       "        "
      ],
      "text/plain": [
       "<IPython.lib.display.YouTubeVideo at 0x7efdd25a2a20>"
      ]
     },
     "execution_count": 20,
     "metadata": {},
     "output_type": "execute_result"
    }
   ],
   "source": [
    "YouTubeVideo(\"8MZW99WJcXs\")"
   ]
  },
  {
   "cell_type": "code",
   "execution_count": 30,
   "metadata": {},
   "outputs": [
    {
     "data": {
      "text/html": [
       "<table border=\"1\" class=\"dataframe\">\n",
       "    <thead>\n",
       "        <tr>\n",
       "            <th>TEAM</th> <th>SALARY sum</th>\n",
       "        </tr>\n",
       "    </thead>\n",
       "    <tbody>\n",
       "        <tr>\n",
       "            <td>Cleveland Cavaliers  </td> <td>82.3166   </td>\n",
       "        </tr>\n",
       "        <tr>\n",
       "            <td>Oklahoma City Thunder</td> <td>70.6988   </td>\n",
       "        </tr>\n",
       "        <tr>\n",
       "            <td>Miami Heat           </td> <td>67.1273   </td>\n",
       "        </tr>\n",
       "        <tr>\n",
       "            <td>San Antonio Spurs    </td> <td>67.034    </td>\n",
       "        </tr>\n",
       "        <tr>\n",
       "            <td>Golden State Warriors</td> <td>66.6431   </td>\n",
       "        </tr>\n",
       "        <tr>\n",
       "            <td>Houston Rockets      </td> <td>61.2029   </td>\n",
       "        </tr>\n",
       "        <tr>\n",
       "            <td>Chicago Bulls        </td> <td>57.8247   </td>\n",
       "        </tr>\n",
       "        <tr>\n",
       "            <td>Los Angeles Lakers   </td> <td>55.8276   </td>\n",
       "        </tr>\n",
       "        <tr>\n",
       "            <td>New York Knicks      </td> <td>55.0595   </td>\n",
       "        </tr>\n",
       "        <tr>\n",
       "            <td>Memphis Grizzlies    </td> <td>53.5235   </td>\n",
       "        </tr>\n",
       "    </tbody>\n",
       "</table>\n",
       "<p>... (20 rows omitted)</p>"
      ],
      "text/plain": [
       "TEAM                  | SALARY sum\n",
       "Cleveland Cavaliers   | 82.3166\n",
       "Oklahoma City Thunder | 70.6988\n",
       "Miami Heat            | 67.1273\n",
       "San Antonio Spurs     | 67.034\n",
       "Golden State Warriors | 66.6431\n",
       "Houston Rockets       | 61.2029\n",
       "Chicago Bulls         | 57.8247\n",
       "Los Angeles Lakers    | 55.8276\n",
       "New York Knicks       | 55.0595\n",
       "Memphis Grizzlies     | 53.5235\n",
       "... (20 rows omitted)"
      ]
     },
     "execution_count": 30,
     "metadata": {},
     "output_type": "execute_result"
    }
   ],
   "source": [
    "# load the nba dataset\n",
    "nba_salaries =  Table.read_table('https://www.inferentialthinking.com/data/nba_salaries.csv')\n",
    "\n",
    "nba_salaries = nba_salaries.relabel(\"'15-'16 SALARY\", 'SALARY')\n",
    "nba_salaries = nba_salaries.select('TEAM', 'POSITION', 'SALARY')\n",
    "starters = nba_salaries.group(['TEAM', 'POSITION'], np.max)\n",
    "starters = starters.relabel('SALARY amax', 'SALARY').select('TEAM', 'SALARY')\n",
    "starters.group('TEAM', sum).sort('SALARY sum', descending=True)"
   ]
  },
  {
   "cell_type": "markdown",
   "metadata": {},
   "source": [
    "**B. Can you find the solution to A using the `pivot` method? The following video will\n",
    "walk you through the solution if you get stuck.**"
   ]
  },
  {
   "cell_type": "code",
   "execution_count": 47,
   "metadata": {},
   "outputs": [
    {
     "data": {
      "image/jpeg": "[encoded data removed]",
      "text/html": [
       "\n",
       "        <iframe\n",
       "            width=\"400\"\n",
       "            height=\"300\"\n",
       "            src=\"https://www.youtube.com/embed/e2Bs4SfIBUA\"\n",
       "            frameborder=\"0\"\n",
       "            allowfullscreen\n",
       "        ></iframe>\n",
       "        "
      ],
      "text/plain": [
       "<IPython.lib.display.YouTubeVideo at 0x7efdce98f7b8>"
      ]
     },
     "execution_count": 47,
     "metadata": {},
     "output_type": "execute_result"
    }
   ],
   "source": [
    "YouTubeVideo(\"e2Bs4SfIBUA\")"
   ]
  },
  {
   "cell_type": "code",
   "execution_count": 51,
   "metadata": {},
   "outputs": [
    {
     "data": {
      "text/html": [
       "<table border=\"1\" class=\"dataframe\">\n",
       "    <thead>\n",
       "        <tr>\n",
       "            <th>TEAM</th> <th>C</th> <th>PF</th> <th>PG</th> <th>SF</th> <th>SG</th> <th>TOTAL</th>\n",
       "        </tr>\n",
       "    </thead>\n",
       "    <tbody>\n",
       "        <tr>\n",
       "            <td>Cleveland Cavaliers  </td> <td>14.2609</td> <td>19.689 </td> <td>16.4075</td> <td>22.9705</td> <td>8.98876</td> <td>82.3166</td>\n",
       "        </tr>\n",
       "        <tr>\n",
       "            <td>Oklahoma City Thunder</td> <td>16.4075</td> <td>12.25  </td> <td>16.7442</td> <td>20.1586</td> <td>5.13843</td> <td>70.6988</td>\n",
       "        </tr>\n",
       "        <tr>\n",
       "            <td>Miami Heat           </td> <td>0      </td> <td>22.1927</td> <td>14.783 </td> <td>10.1516</td> <td>20     </td> <td>67.1273</td>\n",
       "        </tr>\n",
       "        <tr>\n",
       "            <td>San Antonio Spurs    </td> <td>7.5    </td> <td>19.689 </td> <td>13.4375</td> <td>16.4075</td> <td>10     </td> <td>67.034 </td>\n",
       "        </tr>\n",
       "        <tr>\n",
       "            <td>Golden State Warriors</td> <td>13.8   </td> <td>14.2609</td> <td>11.3708</td> <td>11.7105</td> <td>15.501 </td> <td>66.6431</td>\n",
       "        </tr>\n",
       "        <tr>\n",
       "            <td>Houston Rockets      </td> <td>22.3594</td> <td>2.48953</td> <td>12.4045</td> <td>8.19303</td> <td>15.7564</td> <td>61.2029</td>\n",
       "        </tr>\n",
       "        <tr>\n",
       "            <td>Chicago Bulls        </td> <td>13.4   </td> <td>5.54373</td> <td>20.0931</td> <td>2.38044</td> <td>16.4075</td> <td>57.8247</td>\n",
       "        </tr>\n",
       "        <tr>\n",
       "            <td>Los Angeles Lakers   </td> <td>15.5922</td> <td>3.13224</td> <td>5.10312</td> <td>25     </td> <td>7      </td> <td>55.8276</td>\n",
       "        </tr>\n",
       "        <tr>\n",
       "            <td>New York Knicks      </td> <td>12.65  </td> <td>4.13172</td> <td>7.40281</td> <td>22.875 </td> <td>8      </td> <td>55.0595</td>\n",
       "        </tr>\n",
       "        <tr>\n",
       "            <td>Memphis Grizzlies    </td> <td>19.688 </td> <td>9.63856</td> <td>9.58843</td> <td>9.45   </td> <td>5.15854</td> <td>53.5235</td>\n",
       "        </tr>\n",
       "    </tbody>\n",
       "</table>\n",
       "<p>... (20 rows omitted)</p>"
      ],
      "text/plain": [
       "TEAM                  | C       | PF      | PG      | SF      | SG      | TOTAL\n",
       "Cleveland Cavaliers   | 14.2609 | 19.689  | 16.4075 | 22.9705 | 8.98876 | 82.3166\n",
       "Oklahoma City Thunder | 16.4075 | 12.25   | 16.7442 | 20.1586 | 5.13843 | 70.6988\n",
       "Miami Heat            | 0       | 22.1927 | 14.783  | 10.1516 | 20      | 67.1273\n",
       "San Antonio Spurs     | 7.5     | 19.689  | 13.4375 | 16.4075 | 10      | 67.034\n",
       "Golden State Warriors | 13.8    | 14.2609 | 11.3708 | 11.7105 | 15.501  | 66.6431\n",
       "Houston Rockets       | 22.3594 | 2.48953 | 12.4045 | 8.19303 | 15.7564 | 61.2029\n",
       "Chicago Bulls         | 13.4    | 5.54373 | 20.0931 | 2.38044 | 16.4075 | 57.8247\n",
       "Los Angeles Lakers    | 15.5922 | 3.13224 | 5.10312 | 25      | 7       | 55.8276\n",
       "New York Knicks       | 12.65   | 4.13172 | 7.40281 | 22.875  | 8       | 55.0595\n",
       "Memphis Grizzlies     | 19.688  | 9.63856 | 9.58843 | 9.45    | 5.15854 | 53.5235\n",
       "... (20 rows omitted)"
      ]
     },
     "execution_count": 51,
     "metadata": {},
     "output_type": "execute_result"
    }
   ],
   "source": [
    "# load the nba dataset\n",
    "nba_salaries =  Table.read_table('https://www.inferentialthinking.com/data/nba_salaries.csv')\n",
    "nba_salaries = nba_salaries.relabel(\"'15-'16 SALARY\", 'SALARY')\n",
    "\n",
    "starters = nba_salaries.pivot('POSITION', 'TEAM', 'SALARY', max)\n",
    "starters = starters.with_column(\n",
    "    'TOTAL', starters.drop(0).apply(sum)\n",
    ")\n",
    "starters.sort('TOTAL', descending=True)"
   ]
  },
  {
   "cell_type": "code",
   "execution_count": null,
   "metadata": {},
   "outputs": [],
   "source": []
  }
 ],
 "metadata": {
  "kernelspec": {
   "display_name": "Python 3",
   "language": "python",
   "name": "python3"
  },
  "language_info": {
   "codemirror_mode": {
    "name": "ipython",
    "version": 3
   },
   "file_extension": ".py",
   "mimetype": "text/x-python",
   "name": "python",
   "nbconvert_exporter": "python",
   "pygments_lexer": "ipython3",
   "version": "3.6.9"
  }
 },
 "nbformat": 4,
 "nbformat_minor": 4
}
