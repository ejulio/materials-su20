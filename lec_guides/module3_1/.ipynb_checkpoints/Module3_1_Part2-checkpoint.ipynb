{
 "cells": [
  {
   "cell_type": "code",
   "execution_count": 2,
   "metadata": {},
   "outputs": [],
   "source": [
    "# Run cells by clicking on them and hitting CTRL + ENTER on your keyboard\n",
    "from IPython.display import YouTubeVideo\n",
    "from datascience import *\n",
    "import numpy as np\n",
    "%matplotlib inline"
   ]
  },
  {
   "cell_type": "markdown",
   "metadata": {},
   "source": [
    "# Module 3.1 Part 2: Probability and Chance\n",
    "\n",
    "In this lecture guide, you'll learn how to complete basic probability calculations.\n",
    "Probability helps us quantify uncertainty by describing how likely or unlikely an event is.\n",
    "You'll also see how to compute the probability of multiple events occurring by using the addition and multiplication rules. \n",
    "\n",
    "4 videos make up this notebook, for a total run time of 19:44.\n",
    "\n",
    "1. [Monty Hall Problem](#section1) *1 video, total runtime 12:47*\n",
    "2. [Probability](#section2) *3 video, total runtime 6:57*\n",
    "2. [Check for Understanding](#section3)\n",
    "\n",
    "\n",
    "Textbook readings: [Chapter 9.4: Monty Hall Problem](https://www.inferentialthinking.com/chapters/09/4/Monty_Hall_Problem.html), [Chapter 9.5: Finding Probabilities](https://www.inferentialthinking.com/chapters/09/5/Finding_Probabilities.html)"
   ]
  },
  {
   "cell_type": "markdown",
   "metadata": {},
   "source": [
    "<a id='section1'></a>\n",
    "## 1. Monty Hall Problem\n",
    "\n",
    "The Monty Hall Problem is a famous question in probability based on Monty Hall's popular game show \"Let's Make a Deal\". In this video, you'll learn how to use probability to increase your chances of winning the game."
   ]
  },
  {
   "cell_type": "code",
   "execution_count": null,
   "metadata": {},
   "outputs": [],
   "source": [
    "YouTubeVideo(\"15BPf-0RQOE\")"
   ]
  },
  {
   "cell_type": "markdown",
   "metadata": {},
   "source": [
    "The simulation code from the video is included below. Try running the following cells to convince yourself that switching doors puts participants at a higher probability of winning the game."
   ]
  },
  {
   "cell_type": "code",
   "execution_count": 3,
   "metadata": {},
   "outputs": [
    {
     "data": {
      "text/plain": [
       "['second goat', 'first goat', 'car']"
      ]
     },
     "execution_count": 3,
     "metadata": {},
     "output_type": "execute_result"
    }
   ],
   "source": [
    "goats = make_array(\"first goat\", \"second goat\")\n",
    "hidden_behind_doors = np.append(goats, \"car\")\n",
    "\n",
    "def other_goat(goat):\n",
    "    if goat == \"first goat\":\n",
    "        return \"second goat\"\n",
    "    if goat == \"second goat\":\n",
    "        return \"first goat\"\n",
    "    \n",
    "def monty_hall_game():\n",
    "    \"\"\"return [contestant's guess, revealed, remaining]\"\"\"\n",
    "    contestants_guess = np.random.choice(hidden_behind_doors)\n",
    "    \n",
    "    if contestants_guess == \"car\":\n",
    "        revealed = np.random.choice(goats)\n",
    "        return [\"car\", revealed, other_goat(revealed)]\n",
    "    else:\n",
    "        return [contestants_guess, other_goat(contestants_guess), \"car\"]\n",
    "\n",
    "monty_hall_game()"
   ]
  },
  {
   "cell_type": "code",
   "execution_count": 7,
   "metadata": {},
   "outputs": [
    {
     "data": {
      "text/html": [
       "<table border=\"1\" class=\"dataframe\">\n",
       "    <thead>\n",
       "        <tr>\n",
       "            <th>guess</th> <th>revealed</th> <th>remains</th>\n",
       "        </tr>\n",
       "    </thead>\n",
       "    <tbody>\n",
       "        <tr>\n",
       "            <td>second goat</td> <td>first goat </td> <td>car        </td>\n",
       "        </tr>\n",
       "        <tr>\n",
       "            <td>first goat </td> <td>second goat</td> <td>car        </td>\n",
       "        </tr>\n",
       "        <tr>\n",
       "            <td>first goat </td> <td>second goat</td> <td>car        </td>\n",
       "        </tr>\n",
       "        <tr>\n",
       "            <td>car        </td> <td>second goat</td> <td>first goat </td>\n",
       "        </tr>\n",
       "        <tr>\n",
       "            <td>first goat </td> <td>second goat</td> <td>car        </td>\n",
       "        </tr>\n",
       "        <tr>\n",
       "            <td>car        </td> <td>second goat</td> <td>first goat </td>\n",
       "        </tr>\n",
       "        <tr>\n",
       "            <td>car        </td> <td>first goat </td> <td>second goat</td>\n",
       "        </tr>\n",
       "        <tr>\n",
       "            <td>second goat</td> <td>first goat </td> <td>car        </td>\n",
       "        </tr>\n",
       "        <tr>\n",
       "            <td>car        </td> <td>second goat</td> <td>first goat </td>\n",
       "        </tr>\n",
       "        <tr>\n",
       "            <td>second goat</td> <td>first goat </td> <td>car        </td>\n",
       "        </tr>\n",
       "    </tbody>\n",
       "</table>\n",
       "<p>... (9990 rows omitted)</p>"
      ],
      "text/plain": [
       "guess       | revealed    | remains\n",
       "second goat | first goat  | car\n",
       "first goat  | second goat | car\n",
       "first goat  | second goat | car\n",
       "car         | second goat | first goat\n",
       "first goat  | second goat | car\n",
       "car         | second goat | first goat\n",
       "car         | first goat  | second goat\n",
       "second goat | first goat  | car\n",
       "car         | second goat | first goat\n",
       "second goat | first goat  | car\n",
       "... (9990 rows omitted)"
      ]
     },
     "execution_count": 7,
     "metadata": {},
     "output_type": "execute_result"
    }
   ],
   "source": [
    "trials = Table([\"guess\", \"revealed\", \"remains\"])\n",
    "\n",
    "for i in np.arange(10_000):\n",
    "    trials.append(monty_hall_game())\n",
    "\n",
    "trials"
   ]
  },
  {
   "cell_type": "code",
   "execution_count": 8,
   "metadata": {},
   "outputs": [
    {
     "data": {
      "text/html": [
       "<table border=\"1\" class=\"dataframe\">\n",
       "    <thead>\n",
       "        <tr>\n",
       "            <th>guess</th> <th>count</th>\n",
       "        </tr>\n",
       "    </thead>\n",
       "    <tbody>\n",
       "        <tr>\n",
       "            <td>car        </td> <td>3320 </td>\n",
       "        </tr>\n",
       "        <tr>\n",
       "            <td>first goat </td> <td>3367 </td>\n",
       "        </tr>\n",
       "        <tr>\n",
       "            <td>second goat</td> <td>3313 </td>\n",
       "        </tr>\n",
       "    </tbody>\n",
       "</table>"
      ],
      "text/plain": [
       "guess       | count\n",
       "car         | 3320\n",
       "first goat  | 3367\n",
       "second goat | 3313"
      ]
     },
     "execution_count": 8,
     "metadata": {},
     "output_type": "execute_result"
    }
   ],
   "source": [
    "trials.group(\"guess\")"
   ]
  },
  {
   "cell_type": "code",
   "execution_count": 9,
   "metadata": {},
   "outputs": [
    {
     "data": {
      "text/html": [
       "<table border=\"1\" class=\"dataframe\">\n",
       "    <thead>\n",
       "        <tr>\n",
       "            <th>remains</th> <th>count</th>\n",
       "        </tr>\n",
       "    </thead>\n",
       "    <tbody>\n",
       "        <tr>\n",
       "            <td>car        </td> <td>6680 </td>\n",
       "        </tr>\n",
       "        <tr>\n",
       "            <td>first goat </td> <td>1649 </td>\n",
       "        </tr>\n",
       "        <tr>\n",
       "            <td>second goat</td> <td>1671 </td>\n",
       "        </tr>\n",
       "    </tbody>\n",
       "</table>"
      ],
      "text/plain": [
       "remains     | count\n",
       "car         | 6680\n",
       "first goat  | 1649\n",
       "second goat | 1671"
      ]
     },
     "execution_count": 9,
     "metadata": {},
     "output_type": "execute_result"
    }
   ],
   "source": [
    "trials.group(\"remains\")"
   ]
  },
  {
   "cell_type": "markdown",
   "metadata": {},
   "source": [
    "<a id='section2'></a>\n",
    "## 2. Probability\n",
    "\n",
    "In these videos, you'll go over the basic rules of probability. Probability describes the chance behind a random process that has multiple potential outcomes. The addition and multiplication rules can be used to calculate the probability of combinations of events."
   ]
  },
  {
   "cell_type": "markdown",
   "metadata": {},
   "source": [
    "### Probability "
   ]
  },
  {
   "cell_type": "code",
   "execution_count": null,
   "metadata": {},
   "outputs": [],
   "source": [
    "YouTubeVideo(\"9nP-3b8i9Vs\")"
   ]
  },
  {
   "cell_type": "markdown",
   "metadata": {},
   "source": [
    "Assuming all outcomes are equally likely, the chance of an event A is:\n",
    "\n",
    "$$P(A) = \\frac{\\text{number of outcomes that make A happen}}{\\text{total number of possible outcomes}}$$"
   ]
  },
  {
   "cell_type": "markdown",
   "metadata": {},
   "source": [
    "Suppose you have a bag of 6 marbles: 1 red, 2 blue, and 3 yellow. You draw 1 marble at random from the bag. What is the probability that you draw a blue marble?\n",
    "\n",
    "Set `num_outcomes_blue` to the number of outcomes where you would draw a blue marble, `num_outcomes_total` to the total number of possible outcomes, and `probability_blue` to the probability of drawing a blue marble."
   ]
  },
  {
   "cell_type": "code",
   "execution_count": 10,
   "metadata": {},
   "outputs": [
    {
     "data": {
      "text/plain": [
       "0.3333333333333333"
      ]
     },
     "execution_count": 10,
     "metadata": {},
     "output_type": "execute_result"
    }
   ],
   "source": [
    "num_outcomes_blue = 2\n",
    "num_outcomes_total = 6\n",
    "probability_blue = num_outcomes_blue / num_outcomes_total\n",
    "probability_blue"
   ]
  },
  {
   "cell_type": "markdown",
   "metadata": {},
   "source": [
    "<details>\n",
    "    <summary>Solution</summary>\n",
    "    \n",
    "    num_outcomes_blue = 2 \n",
    "    num_outcomes_total = 6 \n",
    "    probability_blue =  num_outcomes_blue / num_outcomes_total\n",
    "</details>"
   ]
  },
  {
   "cell_type": "markdown",
   "metadata": {},
   "source": [
    "### Multiplication Rule "
   ]
  },
  {
   "cell_type": "code",
   "execution_count": null,
   "metadata": {},
   "outputs": [],
   "source": [
    "YouTubeVideo(\"ohjxwLOgb-E\")"
   ]
  },
  {
   "cell_type": "markdown",
   "metadata": {},
   "source": [
    "The probability that both event A and B happen is: \n",
    "\n",
    "$$P(A \\text{ and } B) = P(A) * P(B | A) = P(B) * P(A | B)$$\n",
    "\n",
    "When the chance of B happening is not affected by the outcome of A, and vice versa, we say that events A and B are independent.\n",
    "That is, $P(B|A)$ is the same as $P(B)$, $P(A|B)$ is equal to $P(A)$, and\n",
    "\n",
    "$$P(A \\text{ and } B) = P(A) * P(B)$$"
   ]
  },
  {
   "cell_type": "markdown",
   "metadata": {},
   "source": [
    "Suppose you have a standard deck of cards. The deck contains 52 cards - there are four sets of suites (diamond, club, heart, spade),\n",
    "each containing 13 cards labeled with the numbers 2-10 and face cards J, Q, K, A. We draw 2 cards without replacement -- once a\n",
    "card is drawn it is removed from the deck. \n",
    "\n",
    "What is the probability you get an ace on the first draw?\n",
    "\n",
    "<details>\n",
    "    <summary>Solution</summary>\n",
    "    \n",
    "    P(ace on first draw) = 4/52\n",
    "</details>\n",
    "\n",
    "What is the probability you get an ace on the first draw and an ace on the second draw?\n",
    "\n",
    "<details>\n",
    "    <summary>Solution</summary>\n",
    "    \n",
    "    P(ace on first, ace on second) = P(ace on first draw) * P(ace on the second draw|ace on first draw) = 4/52 * 3/51\n",
    "</details>"
   ]
  },
  {
   "cell_type": "markdown",
   "metadata": {},
   "source": [
    "### Addition Rule "
   ]
  },
  {
   "cell_type": "code",
   "execution_count": null,
   "metadata": {},
   "outputs": [],
   "source": [
    "YouTubeVideo(\"RYCymMGh4Vw\")"
   ]
  },
  {
   "cell_type": "markdown",
   "metadata": {},
   "source": [
    "If the event A can happen in exactly $n$ distinct ways, then:\n",
    "\n",
    "$$P(A) = P(\\text{first way } A \\text{ occurs}) + P(\\text{second way } A \\text{ occurs}) +\n",
    "  \\ldots + P(n^{th} \\text{ way } A \\text{ occurs})$$"
   ]
  },
  {
   "cell_type": "markdown",
   "metadata": {},
   "source": [
    "Suppose I flip a fair coin 3 times. \n",
    "\n",
    "How many possible outcomes are there? \n",
    "\n",
    "<details>\n",
    "    <summary>Solution</summary>\n",
    "    There are 8 total possible outcomes for 3 coin flips: <br>\n",
    "    HHH <br>\n",
    "    HHT <br>\n",
    "    HTH <br>\n",
    "    HTT <br>\n",
    "    TTT <br>\n",
    "    TTH <br>\n",
    "    THT <br>\n",
    "    THH <br>\n",
    "</details>\n",
    "\n",
    "What is the probability of each of these outcomes happening?\n",
    "\n",
    "<details>\n",
    "    <summary>Solution</summary>\n",
    "    All outcomes happens with a probability of (1/2) * (1/2) * (1/2) = 1/8\n",
    "</details>\n",
    "\n",
    "What is the probability that we get two tails in our three tosses?\n",
    "\n",
    "<details>\n",
    "    <summary>Solution</summary>\n",
    "    There are 3 possibe outcomes where we would get two tails: HTT, TTH, and THT.\n",
    "    \n",
    "    \n",
    "    P(two tails in three tosses) = P(HTT) + P(TTH) + P(THT) = (1/8) + (1/8) + (1/8) = 3/8 \n",
    "</details>"
   ]
  },
  {
   "cell_type": "markdown",
   "metadata": {},
   "source": [
    "<a id='section3'></a>\n",
    "## 3. Check for Understanding\n",
    "\n",
    "**A. You toss a fair coin three times - what is the probability that you get at least one head?**\n",
    "\n",
    "<details>\n",
    "    <summary>Solution</summary>\n",
    "    P(at least one head) = 1 - P(do not get at least one head) <br>\n",
    "    There is only one possible outcome where you do not get at least one head: TTT, such that P(at least one head) = 1 - P(TTT) <br>\n",
    "    P(TTT) = P(T on first toss) * P(T on second toss) * P(T on third toss) = (1/2) * (1/2) * (1/2) = 1/8\n",
    "    P(at least one head) = 1 - (1/8) = 7/8\n",
    "    \n",
    "</details>"
   ]
  }
 ],
 "metadata": {
  "kernelspec": {
   "display_name": "Python 3",
   "language": "python",
   "name": "python3"
  },
  "language_info": {
   "codemirror_mode": {
    "name": "ipython",
    "version": 3
   },
   "file_extension": ".py",
   "mimetype": "text/x-python",
   "name": "python",
   "nbconvert_exporter": "python",
   "pygments_lexer": "ipython3",
   "version": "3.6.9"
  }
 },
 "nbformat": 4,
 "nbformat_minor": 4
}
