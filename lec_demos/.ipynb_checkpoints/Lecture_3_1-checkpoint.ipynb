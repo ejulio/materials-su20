{
 "cells": [
  {
   "cell_type": "code",
   "execution_count": null,
   "metadata": {},
   "outputs": [],
   "source": [
    "from datascience import *\n",
    "import numpy as np\n",
    "%matplotlib inline"
   ]
  },
  {
   "cell_type": "markdown",
   "metadata": {},
   "source": [
    "## Iteration"
   ]
  },
  {
   "cell_type": "code",
   "execution_count": null,
   "metadata": {},
   "outputs": [],
   "source": [
    "songs = Table.read_table(\"songs.csv\")\n",
    "songs"
   ]
  },
  {
   "cell_type": "code",
   "execution_count": null,
   "metadata": {},
   "outputs": [],
   "source": [
    "songs.column(\"track\")"
   ]
  },
  {
   "cell_type": "code",
   "execution_count": null,
   "metadata": {},
   "outputs": [],
   "source": [
    "np.random.choice(songs.column(\"track\"), 25)"
   ]
  },
  {
   "cell_type": "code",
   "execution_count": null,
   "metadata": {},
   "outputs": [],
   "source": [
    "\"Love\" in \"Love Song\""
   ]
  },
  {
   "cell_type": "code",
   "execution_count": null,
   "metadata": {},
   "outputs": [],
   "source": [
    "my_playlist = make_array()\n",
    "\n",
    "for song in songs.column(\"track\"):\n",
    "    if (\"Love You\" in song): \n",
    "        my_playlist = np.append(my_playlist, song)\n",
    "        \n",
    "my_playlist"
   ]
  },
  {
   "cell_type": "code",
   "execution_count": null,
   "metadata": {},
   "outputs": [],
   "source": [
    "my_playlist = make_array()\n",
    "\n",
    "for i in np.arange(songs.num_rows):\n",
    "    row_artist = songs.column(\"artist\").item(i)\n",
    "    if (row_artist == \"John Legend\" or row_artist == \"Alicia Keys\"): \n",
    "        my_playlist = np.append(my_playlist, songs.column(\"track\").item(i))\n",
    "        \n",
    "my_playlist"
   ]
  },
  {
   "cell_type": "code",
   "execution_count": null,
   "metadata": {},
   "outputs": [],
   "source": [
    "def generate_mood_playlist(mood, num_songs):    \n",
    "    if (mood == \"Sad\"):\n",
    "        playlist_songs = songs.where(\"energy\", are.below(0.4)).where(\"tempo\", are.below(80)).column(\"track\")\n",
    "        \n",
    "    elif (mood == \"Happy\"): \n",
    "        playlist_songs = songs.where(\"danceability\", are.above(0.7)).where(\"valence\", are.above(0.6)).column(\"track\")\n",
    "    \n",
    "    else:\n",
    "        playlist_songs = songs.column(\"track\")\n",
    "        \n",
    "    playlist = np.random.choice(playlist_songs, num_songs)\n",
    "    return playlist\n",
    "\n",
    "generate_mood_playlist(\"Sad\", 10)"
   ]
  },
  {
   "cell_type": "markdown",
   "metadata": {},
   "source": [
    "## Probability"
   ]
  },
  {
   "cell_type": "markdown",
   "metadata": {},
   "source": [
    "\"Discover Weekly\" playlists aims to compile songs that a user hasn't heard yet but will enjoy based on their listening patterns."
   ]
  },
  {
   "cell_type": "code",
   "execution_count": null,
   "metadata": {},
   "outputs": [],
   "source": [
    "songs.pivot(\"liked\", \"previously_heard\")"
   ]
  },
  {
   "cell_type": "markdown",
   "metadata": {},
   "source": [
    "Suppose we randomly select a song"
   ]
  },
  {
   "cell_type": "code",
   "execution_count": null,
   "metadata": {},
   "outputs": [],
   "source": [
    "#P(like and haven't heard) = number of songs you like and haven't heard / total number of songs\n",
    "p_like_and_havent_heard = 1317 / (796 + 1317 + 216 + 693)\n",
    "p_like_and_havent_heard"
   ]
  },
  {
   "cell_type": "code",
   "execution_count": null,
   "metadata": {},
   "outputs": [],
   "source": [
    "#P(haven't heard) = number of songs you haven't heard / total number of songs\n",
    "p_havent_heard = (796 + 1317) / (796 + 1317 + 216 + 693)\n",
    "p_havent_heard"
   ]
  },
  {
   "cell_type": "code",
   "execution_count": null,
   "metadata": {},
   "outputs": [],
   "source": [
    "#P(like | haven't heard) = number of songs you like and haven't heard / number of songs you haven't heard\n",
    "1317 / (796 + 1317)"
   ]
  },
  {
   "cell_type": "code",
   "execution_count": null,
   "metadata": {},
   "outputs": [],
   "source": [
    "#P(like | haven't heard) = P(like and haven't heard) / P(haven't heard)\n",
    "p_like_and_havent_heard / p_havent_heard"
   ]
  },
  {
   "cell_type": "markdown",
   "metadata": {},
   "source": [
    "## Sampling"
   ]
  },
  {
   "cell_type": "code",
   "execution_count": null,
   "metadata": {},
   "outputs": [],
   "source": [
    "playlist_songs = np.random.choice(songs.where(\"previously_heard\", \"Haven't Heard\").column(\"track\"), 50)\n",
    "playlist_songs"
   ]
  },
  {
   "cell_type": "code",
   "execution_count": null,
   "metadata": {},
   "outputs": [],
   "source": [
    "playlist_table = Table().with_column(\"track\", playlist_songs).join(\"track\", songs)\n",
    "playlist_table"
   ]
  },
  {
   "cell_type": "markdown",
   "metadata": {},
   "source": [
    "There's a fixed, unknown probability of you liking a randomly selected song from the playlist."
   ]
  },
  {
   "cell_type": "code",
   "execution_count": null,
   "metadata": {},
   "outputs": [],
   "source": [
    "grouped_playlist_table = playlist_table.group(\"liked\")\n",
    "grouped_playlist_table"
   ]
  },
  {
   "cell_type": "code",
   "execution_count": null,
   "metadata": {},
   "outputs": [],
   "source": [
    "prop_liked = grouped_playlist_table.column(\"count\").item(1) / sum(grouped_playlist_table.column(\"count\"))\n",
    "prop_liked"
   ]
  },
  {
   "cell_type": "code",
   "execution_count": null,
   "metadata": {},
   "outputs": [],
   "source": [
    "trials = 52\n",
    "unheard_stats = make_array()\n",
    "\n",
    "for i in np.arange(trials):\n",
    "    playlist_songs = np.random.choice(songs.where(\"previously_heard\", \"Haven't Heard\").column(\"track\"), 50)\n",
    "    playlist_table = Table().with_column(\"track\", playlist_songs).join(\"track\", songs)\n",
    "    grouped_playlist_table = playlist_table.group(\"liked\")\n",
    "    prop_liked = grouped_playlist_table.column(\"count\").item(1) / sum(grouped_playlist_table.column(\"count\"))\n",
    "    unheard_stats = np.append(unheard_stats, prop_liked)\n",
    "\n",
    "unheard_stats   "
   ]
  },
  {
   "cell_type": "code",
   "execution_count": null,
   "metadata": {},
   "outputs": [],
   "source": [
    "Table().with_column(\"Statistics\", unheard_stats).hist()"
   ]
  }
 ],
 "metadata": {
  "kernelspec": {
   "display_name": "Python 3",
   "language": "python",
   "name": "python3"
  },
  "language_info": {
   "codemirror_mode": {
    "name": "ipython",
    "version": 3
   },
   "file_extension": ".py",
   "mimetype": "text/x-python",
   "name": "python",
   "nbconvert_exporter": "python",
   "pygments_lexer": "ipython3",
   "version": "3.6.9"
  }
 },
 "nbformat": 4,
 "nbformat_minor": 4
}
